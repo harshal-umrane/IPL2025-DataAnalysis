{
 "cells": [
  {
   "cell_type": "markdown",
   "metadata": {
    "application/vnd.databricks.v1+cell": {
     "cellMetadata": {
      "byteLimit": 2048000,
      "rowLimit": 10000
     },
     "inputWidgets": {},
     "nuid": "e2a32d49-9c6f-41c0-9d54-cb8d9e11285b",
     "showTitle": false,
     "tableResultSettingsMap": {},
     "title": ""
    }
   },
   "source": [
    "#**Tata IPL - 2025 Data _Analysis_**\n"
   ]
  },
  {
   "cell_type": "code",
   "execution_count": 0,
   "metadata": {
    "application/vnd.databricks.v1+cell": {
     "cellMetadata": {
      "byteLimit": 2048000,
      "rowLimit": 10000
     },
     "inputWidgets": {},
     "nuid": "75ef64e0-54cb-4ab4-8975-1a4aadbc977a",
     "showTitle": false,
     "tableResultSettingsMap": {},
     "title": ""
    }
   },
   "outputs": [],
   "source": [
    "from pyspark.sql import *\n",
    "from pyspark.sql.functions import *\n",
    "from pyspark.sql.types import *"
   ]
  },
  {
   "cell_type": "code",
   "execution_count": 0,
   "metadata": {
    "application/vnd.databricks.v1+cell": {
     "cellMetadata": {
      "byteLimit": 2048000,
      "rowLimit": 10000
     },
     "inputWidgets": {},
     "nuid": "14f4bdf9-c62d-4085-8cb2-bad514dde044",
     "showTitle": false,
     "tableResultSettingsMap": {},
     "title": ""
    }
   },
   "outputs": [],
   "source": [
    "spark = SparkSession.builder.appName(\"IPL 2025 Analysis\").getOrCreate()"
   ]
  },
  {
   "cell_type": "code",
   "execution_count": 0,
   "metadata": {
    "application/vnd.databricks.v1+cell": {
     "cellMetadata": {
      "byteLimit": 2048000,
      "rowLimit": 10000
     },
     "inputWidgets": {},
     "nuid": "ed65e104-2a5d-4ae4-9458-14eb9c99665a",
     "showTitle": false,
     "tableResultSettingsMap": {},
     "title": ""
    }
   },
   "outputs": [],
   "source": [
    "deliveries_df = spark.read.format(\"csv\").option(\"header\", \"true\").option(\"inferSchema\", \"true\").load(\"s3://ipl2025-project/deliveries.csv\")"
   ]
  },
  {
   "cell_type": "markdown",
   "metadata": {
    "application/vnd.databricks.v1+cell": {
     "cellMetadata": {
      "byteLimit": 2048000,
      "rowLimit": 10000
     },
     "inputWidgets": {},
     "nuid": "ec11501b-94b0-4b22-9044-8bed904ad3cd",
     "showTitle": false,
     "tableResultSettingsMap": {},
     "title": ""
    }
   },
   "source": [
    "### **Loading 4 Datasets - Deliveries, Matches, OrangeCap and PurpleCap**"
   ]
  },
  {
   "cell_type": "code",
   "execution_count": 0,
   "metadata": {
    "application/vnd.databricks.v1+cell": {
     "cellMetadata": {
      "byteLimit": 2048000,
      "rowLimit": 10000
     },
     "inputWidgets": {},
     "nuid": "352d8e86-902e-4490-b09d-d6df480883e8",
     "showTitle": false,
     "tableResultSettingsMap": {},
     "title": ""
    }
   },
   "outputs": [],
   "source": [
    "matches_df = spark.read.format(\"csv\").option(\"header\", \"true\").option(\"inferSchema\", \"true\").load(\"s3://ipl2025-project/matches.csv\")\n"
   ]
  },
  {
   "cell_type": "code",
   "execution_count": 0,
   "metadata": {
    "application/vnd.databricks.v1+cell": {
     "cellMetadata": {
      "byteLimit": 2048000,
      "rowLimit": 10000
     },
     "inputWidgets": {},
     "nuid": "a0db47cb-a62d-4662-a012-0d05a95ca5a1",
     "showTitle": false,
     "tableResultSettingsMap": {},
     "title": ""
    }
   },
   "outputs": [],
   "source": [
    "orangeCap_df = spark.read.format(\"csv\").option(\"header\", \"true\").option(\"inferSchema\", \"true\").load(\"s3://ipl2025-project/orange_cap.csv\")"
   ]
  },
  {
   "cell_type": "code",
   "execution_count": 0,
   "metadata": {
    "application/vnd.databricks.v1+cell": {
     "cellMetadata": {
      "byteLimit": 2048000,
      "rowLimit": 10000
     },
     "inputWidgets": {},
     "nuid": "50cbc283-9913-4053-8c12-0260bd65d981",
     "showTitle": false,
     "tableResultSettingsMap": {},
     "title": ""
    }
   },
   "outputs": [],
   "source": [
    "purpleCap_df = spark.read.format(\"csv\").option(\"header\", \"true\").option(\"inferSchema\", \"true\").load(\"s3://ipl2025-project/purple_cap.csv\")"
   ]
  },
  {
   "cell_type": "markdown",
   "metadata": {
    "application/vnd.databricks.v1+cell": {
     "cellMetadata": {
      "byteLimit": 2048000,
      "rowLimit": 10000
     },
     "inputWidgets": {},
     "nuid": "fa8782a8-6951-4ca2-82eb-5b4eb3a60df3",
     "showTitle": false,
     "tableResultSettingsMap": {},
     "title": ""
    }
   },
   "source": [
    "### **Total No. of Matches Played VS Toss with Match WIN**"
   ]
  },
  {
   "cell_type": "code",
   "execution_count": 0,
   "metadata": {
    "application/vnd.databricks.v1+cell": {
     "cellMetadata": {
      "byteLimit": 2048000,
      "implicitDf": true,
      "rowLimit": 10000
     },
     "inputWidgets": {},
     "nuid": "c2579e2a-1b7c-4c0e-af00-b4ac81d51540",
     "showTitle": false,
     "tableResultSettingsMap": {},
     "title": ""
    }
   },
   "outputs": [],
   "source": [
    "team1_df = matches_df.select(col(\"team1\").alias(\"team\"))\n",
    "team2_df = matches_df.select(col(\"team2\").alias(\"team\"))\n",
    "\n",
    "combined_teams_df = team1_df.union(team2_df)\n",
    "\n",
    "total_matches_df = combined_teams_df.groupBy(\"team\") \\\n",
    "    .agg(count(\"*\").alias(\"total_matches\"))\n",
    "\n",
    "toss_and_match_df = matches_df.filter(\n",
    "    (col(\"toss_winner\").isNotNull()) &\n",
    "    (col(\"match_winner\").isNotNull()) &\n",
    "    (col(\"toss_winner\") == col(\"match_winner\")))\n",
    "\n",
    "toss_match_wins_df = toss_and_match_df.groupBy(\"match_winner\") \\\n",
    "    .agg(count(\"*\").alias(\"toss_and_match_wins\")) \\\n",
    "    .withColumnRenamed(\"match_winner\", \"team\")\n",
    "\n",
    "toss_and_match_win_df = total_matches_df.join(toss_match_wins_df, on=\"team\", how=\"left\") \\\n",
    "    .fillna(0, subset=[\"toss_and_match_wins\"]) \\\n",
    "    .orderBy(col(\"toss_and_match_wins\").desc())"
   ]
  },
  {
   "cell_type": "code",
   "execution_count": 0,
   "metadata": {
    "application/vnd.databricks.v1+cell": {
     "cellMetadata": {
      "byteLimit": 2048000,
      "rowLimit": 10000
     },
     "inputWidgets": {},
     "nuid": "cbcdb03d-8610-4075-86b6-51e730f68091",
     "showTitle": false,
     "tableResultSettingsMap": {},
     "title": ""
    }
   },
   "outputs": [
    {
     "output_type": "display_data",
     "data": {
      "image/png": "[encoded data removed]"
     },
     "metadata": {
      "application/vnd.databricks.v1+output": {
       "addedWidgets": {},
       "arguments": {},
       "data": "data:image/png;base64,iVBORw0KGgoAAAANSUhEUgAAA1gAAAGoCAYAAABbkkSYAAAAOXRFWHRTb2Z0d2FyZQBNYXRwbG90bGliIHZlcnNpb24zLjUuMSwgaHR0cHM6Ly9tYXRwbG90bGliLm9yZy/YYfK9AAAACXBIWXMAAAsTAAALEwEAmpwYAABPW0lEQVR4nO3deXxddZ34/9c7SdMkzdaVrrToQBFbZCkgiyKLCO46OoIbuIDoz31cUMfB/Yuj47iNzqKD44qC4oIrmyyCQEGUzQ4oaSnd6JKtTdMm+fz+OCfXtND2NpzkNuT1fDzyaHPuvZ/zzudzzr3nfT/LiZQSkiRJkqTHr6rSAUiSJEnSE4UJliRJkiQVxARLkiRJkgpigiVJkiRJBTHBkiRJkqSCmGBJkiRJUkFMsCSpQiLiWRGxstJxDBURKSL+boTKvicinjUSZe/rIuKciLix0nEMiogFeVvXjPB+2iLi1JHchyTta0ywJI1JEdE95GcgInqG/P6qSsdXhPwCeN3Qi+CImJBvK+smhiOVxEXErDy+/YZs+9Autv0KIKX01JTSb4uO5fGIiFcNOW568mOpdGzt5nXfiIhPFBTDYLLzh522T4uIbRHRVmY5+1QSV5ThtpEkVYoJlqQxKaXUOPgDrABeMGTbdyodX4E2AWcM+f2MfFtFpZRWAw8Azxyy+ZnAnx9j2/WjGNpeSSl9Z8hxdAawaqdjazQ1RMSiIb+/EnhwlGPY5+xjbSRJe2SCJekJJSImRsTnI2JV/vP5iJiYPzYtIq6IiPaI2BgRN0REVf7Y+yPi4YjoiohlEXHKLsp/XkT8ISI6I+KhiPjIkMcGeyLOjogVEbE+Ij405PH6vOdjU0TcCxxVxp/0LeC1Q35/LfDNnWJ6XUTcl8f+14h4U759EvBLYPaQb/xnR0R1RHwwIv6Sv+b2iJg3pMhTI+L+vJ7+PSJiF7FdT55MRUQ1cATwhZ22HZs/b4fhYhHxkYj4QUR8M4/hnohYMuRv2mN7RMQxEbEm38/gtpdExJ/y/x8dEUvztlobEZ/bY23vWP5TIuK3eT3cExEvzLefB7wKeF9epz/Lt18wpE7vjYiX7M3+yNr67CG/P1ZbP+Y+IuIpwH8Ax+Yxtefb6yPiXyNieUR0RMSNEVE/pMhX7eJYrRqyrw15W03JH6uLiG/n29sj4rYY0mv5GI7KY90UERdHRF1ezt0R8YIh+5yQx3F4uRWWH88/jIhHIuLBiHj7kMeOjoib8xhXR8SXI6J2yOMpIt6SH+tdEfHxiHhyRNyUHzM/GPp8SSpbSskff/zxZ0z/AG3Aqfn/Pwb8HpgBTAduAj6eP/b/yC5CJ+Q/zwACWAg8BMzOn7cAePIu9vUsYDHZF1SHAmuBFw95XQL+G6gHngb0Ak/JH78IuAGYAswD7gZW7ubvSsCifB+twOT8/4uyt+/S854HPDn/W04EtgBHDIl35U7lvhe4K/+7I49z6pB9XpHvb3/gEeD0XcR3NvDH/P9LyBKpA3fa1gPUPkY7fQTYCjwXqM7b5vf5Y3vTHn8Bnj3k90uBC/L/3wy8Jv9/I/D0PRxHpbrKj48HgA8CtcDJQBewMH/8G8Andnr9y4HZ+bHxCmAzMCt/7Bzgxl3sd/C4WZD/3dXAIWS9gacCbcPdB/DvwG+BOXm5xwET2fOx+g6y82hu/vz/BL6XP/Ym4GdAQ17mkUDzbs7Nu8mO9ynA7wbrDXgf8P0hz30RcNdetFEVcDvwz3kbPQn4K/Cc/PEjgacDNfnfex/wzp3Or58AzcBT87//6rycFuBe4OxKv7/5448/Y+/HHixJTzSvAj6WUlqXUnoE+Cjwmvyx7cAsYH5KaXtK6YaUUgL6yS4iD4mICSmltpTSXx6r8JTSb1NKd6WUBlJKfwK+R5bUDPXRlFJPSumPwB/JLl4B/gH4ZEppY0rpIeCLZfw9W8kuZl+R//w03zY0pp+nlP6SMtcBvyFLHnfljcA/pZSW5a/5Y0ppw5DHL0optaeUVgDXAoftopzrgEUR0Zrv74aU0v3A9CHbfp9S2raL19+YUvpFSqmfrPdmsJ7Kbg+y+j8LICKayBK27+WPbQf+LiKmpZS6U0q/33WVPMrTyZKyi1JK21JK15Alnmft6gUppUtTSqvyY+P7wP3A0Xuxz5XAMrKk6rVkdTLsfUTWO/t64B0ppYdTSv0ppZtSSr1DnrarY/V84EMppZX58z8CvCyy+YDbganA3+Vl3p5S6tzN3/XllNJDKaWNwCf5Wx1+G3huRDTnv7/msf7m3TgKmJ5S+ljeRn8lSxjPBMjj+n1KqS+l1EaWJO58rv5LSqkzpXQPWSL4m5TSX1NKHWS9v2X3pknSIBMsSU80s4HlQ35fnm8D+AxZr8Rv8qF0FwCklB4A3kl2EbkuIi6JiNk8hnxY2rX5kKQOsgvRaTs9bc2Q/28hu1AfjO2hnWIrxzfJLrgfNWQsj+mMiPh9ZMMe28mSjJ1jGmoeWc/Pruwq/h3kF60PkyVSzyTrnYOs13Bw2+7mX+28n7qIqNmb9gC+C7w0smGgLwXuSCkN1usbgIOAP+fD2J6/m1h2Nht4KKU0MGTbcrKeoMcUEa+NiDvzIWntZD2Nu2uHx/JNsp6os3iMZGMv9zENqGN4bT0fuHzIfu4jS3z3y+P6NXBJZMNw/yUiJuxmHzsf87MBUkqryHq0/j5PyM8A9mb+5Hyy4a/tQ+L8YB4jEXFQZEOC10REJ/ApHl1Xa4f8v+cxfneOl6S9ZoIl6YlmFdmF16D9822klLpSSv+YUnoS8ELg3ZHP7UkpfTeldEL+2gR8ehflf5esF2leSqmFbMjhruYo7Ww1WXIzNLZy3EDW87YfsMMqcXli8UPgs8B+KaVW4BdDYnqs1QYfIhtSWITBeVjHkiVWg/E+EziBYS5wUW57pJTuJbtoP4NsUYjvDnns/pTSWWTDRT8NXBbZvLRyrALm5b1Ag/YnSyhhp3qNiPlkvSdvJRtu2UrWI1LusTHoh2RDPv+a9yDuzT52buv1ZL2dw2nrh4AzUkqtQ37q8p6w7Smlj6aUDiEbcvh8dpwnuLOdj/lVQ37/X+DVZEMfb04pPUz5HgIe3CnGppTSc/PHv0o2zPLAlFIzWfK1t+0hSXvNBEvSE833gH+KiOkRMY1sfsa3ASLi+RHxdxERQAfZN/IDEbEwIk7Ok5WtZN9cD+yi/CZgY0ppa0QcTXZRX64fAB+IiMkRMRd4WzkvyocxvgB4Yf7/oWrJhtM9AvRFxBnAaUMeXwtMjYiWIdu+Bnw8Ig6MzKERMXUv/o6hrie7uF41ZJjYjfm2FrJ5UHtlL9sDsqTqHWRJ3aVDynl1REzPe6Ha8827K2eoW8h6dN6XL77wLLI2uCR/fC3ZXJ1Bk8gSnEfyfb+OrHdpr6SUNpPN93rjYzy8p32sBeYOLsyQ/93/A3wu/ra4ybF5ve7JfwCfzJM68vPpRfn/T4qIxZEtLtJJNmRwd/X6/0XE3MgWyfgQ8P0hj/2YbHGUd/AYvbN7cCvQFdmCKPX537coIgYXj2nK4+uOiIOBN+9l+ZI0LCZYkp5oPgEsBf5EtpDDHfk2yBZguAroJrvw/0pK6VqyBOUism/815D1eHxgF+W/BfhYRHSRJW8/2IvYPkrW2/Ig2TypsuebpJTuyeeJ7Ly9C3h7HscmsoTvp0Me/zNZ0vnXfBjVbOBz+fN/Q3YB+nWyhQ6G4zqy+hras3ZnXt7tKaUtwyhzb9oD/jYP7pqU0voh208H7onsXklfAM5MKfWUE0A+b+wFZD1j64GvAK/N6xOyOjskr9Mf5z1p/0p2XK0lWwjld+Xs6zH2vfSx5pyVsY9rgHuANRExWA/vITsPbgM2kvXklfPZ/wWy4+g3+bH+e+CY/LGZwGVkx859ZMfA7o7l75Ida38lG65Yun9Y3h4/BA4AflRGXCX53L3nk80RfJCsnb5GlthD9re/kmxxkv9mx8ROkkZMPPrLUEmSpNEREf8MHJRSenWlY5GkItRUOgBJkjQ+5cMG38DfVvqUpDHPIYKSJGnURcS5ZAtV/DKlNKzFUCRpX+QQQUmSJEkqiD1YkiRJklSQMTEHa9q0aWnBggWVDkOSJEmSALj99tvXp5Sm77x9TCRYCxYsYOnSpZUOQ5IkSZIAiIjlj7XdIYKSJEmSVBATLEmSJEkqiAmWJEmSJBVkTMzBeizbt29n5cqVbN26tdKhaB9UV1fH3LlzmTBhQqVDkSRJ0jgyZhOslStX0tTUxIIFC4iISoejfUhKiQ0bNrBy5UoOOOCASocjSZKkcWTMDhHcunUrU6dONbnSo0QEU6dOtXdTkiRJo27MJliAyZV2yWNDkiRJlTCmEyxJkiRJ2peM2TlYO1u2bFmh5S1cuHC3j2/YsIFTTjkFgDVr1lBdXc306dmNnG+99VZqa2tLz/385z/PeeedR0NDw27LfNaznsVnP/tZlixZ8qjtf/3rX1m+fHmpZ+bFL34xV111Fd3d3bssr729ne9+97u85S1vGdZ+JUmSJO0de7CGaerUqdx5553ceeednH/++bzrXe8q/T40uYIswdqyZcvj2l9rayu/+93vgCxxWr169R5f097ezle+8pXHtV9JkiRJ5TPBKtDVV1/N4YcfzuLFi3n9619Pb28vX/ziF1m1ahUnnXQSJ510EgBvfvObWbJkCU996lO58MILyyr7zDPP5JJLLgHgRz/6ES996UtLj3V3d3PKKadwxBFHsHjxYn7yk58AcMEFF/CXv/yFww47jPe+970AfPrTn2bx4sU87WlP44ILLiiVcemll3L00Udz0EEHccMNNwDQ39/Pe9/7Xo466igOPfRQ/vM//xOA1atX88xnPpPDDjuMRYsWlZ4vSZIkjXdPmCGClbZ161bOOeccrr76ag466CBe+9rX8tWvfpV3vvOdfO5zn+Paa69l2rRpAHzyk59kypQp9Pf3c8opp/CnP/2JQw89dLfln3LKKZx77rn09/dzySWX8F//9V98/OMfB7J7Pl1++eU0Nzezfv16nv70p/PCF76Qiy66iLvvvps777wTgF/+8pf85Cc/4ZZbbqGhoYGNGzeWyu/r6+PWW2/lF7/4BR/96Ee56qqr+PrXv05LSwu33XYbvb29HH/88Zx22mn86Ec/4jnPeQ4f+tCH6O/vf9y9c5IkSdIThT1YBenv7+eAAw7goIMOAuDss8/m+uuvf8zn/uAHP+CII47g8MMP55577uHee+/dY/nV1dWccMIJXHLJJfT09LBgwYLSYyklPvjBD3LooYdy6qmn8vDDD7N27dpHlXHVVVfxute9rjQXbMqUKaXHBnvEjjzySNra2gD4zW9+wze/+U0OO+wwjjnmGDZs2MD999/PUUcdxcUXX8xHPvIR7rrrLpqamsqqI0mSJOmJzh6sUfbggw/y2c9+lttuu43JkydzzjnnlH2/pjPPPJOXvOQlfOQjH9lh+3e+8x0eeeQRbr/9diZMmMCCBQv2+h5QEydOBLJErq+vD8gSty996Us85znPedTzr7/+en7+859zzjnn8O53v5vXvva1e7U/SZIk6YnIHqyCVFdX09bWxgMPPADAt771LU488UQAmpqa6OrqAqCzs5NJkybR0tLC2rVr+eUvf1n2Pp7xjGfwgQ98gLPOOmuH7R0dHcyYMYMJEyZw7bXXsnz58kftF+DZz342F198cWlI39Ahgo/lOc95Dl/96lfZvn07AP/3f//H5s2bWb58Ofvttx/nnnsub3zjG7njjjvK/hskSZKkJ7InTA/WnpZVH2l1dXVcfPHFvPzlL6evr4+jjjqK888/H4DzzjuP008/ndmzZ3Pttddy+OGHc/DBBzNv3jyOP/74svcREbznPe951PZXvepVvOAFL2Dx4sUsWbKEgw8+GMhWOjz++ONZtGgRZ5xxBp/5zGe48847WbJkCbW1tTz3uc/lU5/61C7398Y3vpG2tjaOOOIIUkpMnz6dH//4x/z2t7/lM5/5DBMmTKCxsZFvfvObe1lbkiRJ0hNTpJQqHcMeLVmyJC1dunSHbffddx9PecpTKhSRxgKPkSe2ou99t6+r9JdIkjQafG/XWBIRt6eUHnUjWYcISpIkSVJBTLAkSZIkqSAmWJIkSZJUEBMsSZIkSSqICZYkSZIkFcQES5IkSZIK8oS5D1Z8NAotL124++Xr3/WudzF//nze+c53AtlNeefNm8fXvvY1AP7xH/+ROXPm8O53v3tY+//1r3/N+9//fgAeeOAB5syZQ319PYceeug+c9+pb3zjGyxdupQvf/nLj9r+ute9jiuvvJJTTz0VgB//+Me85CUv4dJLL+VlL3vZbss87bTTmD179l7vV5IkSao0e7CG6fjjj+emm24CYGBggPXr13PPPfeUHr/ppps47rjjhl3+c57zHO68887SjYG/853vcOedd+4zydWeLF68mEsuuaT0+/e+9z2e9rSn7fF13/jGN1i1atVIhiZJkiSNGBOsYTruuOO4+eabAbjnnntYtGgRTU1NbNq0id7eXu677z6OOOIIrr76ag4//HAWL17M61//enp7ewFYsGABF154IUcccQSLFy/mz3/+c1n7/dznPseiRYtYtGgRn//85wHYvHkzz3ve83ja057GokWL+P73vw/ABRdcwCGHHMKhhx7Ke97znkeVdeutt3Lsscdy+OGHc9xxx5Vu7veNb3yDl770pZx++ukceOCBvO997yu95uKLL+aggw7i6KOP5ne/+90u43zGM57Brbfeyvbt2+nu7uaBBx7gsMMOKz3+sY99jKOOOopFixZx3nnnkVLisssuY+nSpbzqVa/isMMOo6enh9tuu43jjjuOpz3taRx99NF0dXUBsGrVqseMT5IkSaqkJ8wQwdE2e/ZsampqWLFiBTfddBPHHnssDz/8MDfffDMtLS0sXryYgYEBzjnnHK6++moOOuggXvva1/LVr361NKxw2rRp3HHHHXzlK1/hs5/9bGl44a7cfvvtXHzxxdxyyy2klDjmmGM48cQT+etf/8rs2bP5+c9/DkBHRwcbNmzg8ssv589//jMRQXt7+6PKO/jgg7nhhhuoqanhqquu4oMf/CA//OEPAbjzzjv5wx/+wMSJE1m4cCFve9vbqKmp4cILL+T222+npaWFk046icMPP/wxY40ITj31VH7961/T0dHBC1/4Qh588MHS429961v553/+ZwBe85rXcMUVV/Cyl72ML3/5y3z2s59lyZIlbNu2jVe84hV8//vf56ijjqKzs5P6+vpdxjdv3ry9akNJkiSpaPZgPQ7HHXccN910UynBOvbYY0u/H3/88SxbtowDDjiAgw46CICzzz6b66+/vvT6l770pQAceeSRtLW17XF/N954Iy95yUuYNGkSjY2NvPSlL+WGG25g8eLFXHnllbz//e/nhhtuoKWlhZaWFurq6njDG97Aj370IxoaGh5VXkdHBy9/+ctZtGgR73rXu3YY4njKKaeUyjjkkENYvnw5t9xyC8961rOYPn06tbW1vOIVr9htvGeeeSaXXHIJl1xyCWedddYOj1177bUcc8wxLF68mGuuuWaHfQ9atmwZs2bN4qijjgKgubmZmpqaXcYnSZIkVZoJ1uMwOA/rrrvuYtGiRTz96U/n5ptvLnv+1cSJEwGorq6mr69v2HEcdNBB3HHHHSxevJh/+qd/4mMf+xg1NTXceuutvOxlL+OKK67g9NNPf9TrPvzhD3PSSSdx991387Of/YytW7c+KrbHE9/RRx/NXXfdxfr160tJJsDWrVt5y1vewmWXXcZdd93Fueeeu8O+y1FEfJIkSVLRTLAeh+OOO44rrriCKVOmUF1dzZQpU2hvb+fmm2/muOOOY+HChbS1tfHAAw8A8K1vfYsTTzxx2Pt7xjOewY9//GO2bNnC5s2bufzyy3nGM57BqlWraGho4NWvfjXvfe97ueOOO+ju7qajo4PnPve5/Nu//Rt//OMfH1VeR0cHc+bMAbJ5V3tyzDHHcN1117Fhwwa2b9/OpZdeusfXXHTRRXzqU5/aYdtgMjVt2jS6u7u57LLLSo81NTWV5lktXLiQ1atXc9tttwHQ1dVlIiVJkqR92hNmDtaellUfCYsXL2b9+vW88pWv3GFbd3c306ZNA7JFIV7+8pfT19fHUUcdxfnnnz/s/R1xxBGcc845HH300QC88Y1v5PDDD+fXv/41733ve6mqqmLChAl89atfpaurixe96EVs3bqVlBKf+9znHlXe+973Ps4++2w+8YlP8LznPW+P+581axYf+chHOPbYY2ltbd1h0YpdOeOMMx61rbW1lXPPPZdFixYxc+bM0hBAgHPOOYfzzz+f+vp6br75Zr7//e/ztre9jZ6eHurr67nqqqv2uE9JkiSpUiKl0U9M9taSJUvS0qVLd9h233338ZSnPKVCEWks8Bh5Yhtc9XK8WLhwYaVDkKQR53u7xpKIuD2ltGTn7Q4RlCRJkqSCmGBJkiRJUkHGdII1FoY3qjI8NiRJklQJYzbBqqurY8OGDV5I61FSSmzYsIG6urpKhyJJkqRxZsyuIjh37lxWrlzJI488UulQtA+qq6tj7ty5lQ5DkiRJ48yYTbAmTJjAAQccUOkwJEmSJKlkzA4RlCRJkqR9zYglWBHxPxGxLiLuHrLtMxHx54j4U0RcHhGtI7V/SZIkSRptI9mD9Q3g9J22XQksSikdCvwf8IER3L8kSZIkjaoRS7BSStcDG3fa9puUUl/+6+8BVyGQJEmS9IRRyUUuXg98f1cPRsR5wHmQrRjY1tYGwOTJk6mtrWXt2rUA1NfXM2PGDJYvXz74OubPn8/q1avp7e0FYPbs2XR3d9PZ2QnAlClTqKmpYd26dQA0NDQwbdo0VqxYAUB1dTXz5s1j1apVbNu2DYA5c+bQ2dlJV1cXAJ2dnUQEW7ZsAbJFN+rr60v7qKqqorm5mc7OTgYGBgBobm6mp6eH7du3l/abUqKnpweA2tpaJk6cWNrHYBkdHR2l5ehbWlrYsmVLqYxJkyYxMDBQKmPixInU1taWyqiurqapqYn29vZS3ba0tLB582b6+vpKZfT397N161YgW4GvpqaG7u5uAGpqajjyyCNLbQCwYMEC1qxZU3rNzJkz2bp1a2k/Q9tp7dq11NTUMGnSJDo6OkpltLa20tXVRX9/PwBNTU1s27at1G719fVUVVWxefPmUh03NDSUyogIWlpadqjjpqYment7S+1WX18/6u203377sf/++7N+/frSfmfMmEFfXx8bN24s7aOxsZFVq1aV2m3WrFnccsstj6udGhsbd2jr1tZWuru7S2U0NjbS19e3QxnV1dWlOh7tdpo8eTIAU6dOpaqqqrQqaGNjI62traxcubIU1+DKoYN/y+BxPxbPp+G0U09PT8Xf94bTTnPnzqW9vb3090+fPp2BgQE2bNhQOhaam5t5+OGHS+02e/ZsHnroodIxN9zzafny5aW2nj9/PuvWrSu17X777ce2bdvYtGlTqQ3q6ur44x//+LjaqZLn03De96ZPnz7sdurq6hqz59Nw2mnmzJnDPp/Wrl27T3w+jVY7LVy4kLq6OtasWVOq85kzZ+7VdcRYPJ+G005tbW0Vf997PO20r1yXV+rzaVdiJO8jFRELgCtSSot22v4hYAnw0lRGAEuWLElLly4dmSCHadmyZZUOYVQtXLhw2K+1rspnXZXPutJI8Lgqn3VVPuuqfNaVxpKIuD2ltGTn7aPegxUR5wDPB04pJ7mSJEmSpLFiVBOsiDgdeB9wYkppy2juW5IkSZJG2kgu0/494GZgYUSsjIg3AF8GmoArI+LOiPiPkdq/JEmSJI22EevBSimd9Ribvz5S+5MkSZKkShvJ+2BJkiRJ0rhigiVJkiRJBTHBkiRJkqSCmGBJkiRJUkFMsCRJkiSpICZYkiRJklQQEyxJkiRJKogJliRJkiQVxARLkiRJkgpigiVJkiRJBTHBkiRJkqSCmGBJkiRJUkFMsCRJkiSpICZYkiRJklQQEyxJkiRJKogJliRJkiQVxARLkiRJkgpigiVJkiRJBTHBkiRJkqSCmGBJkiRJUkFMsCRJkiSpIDWVDkCSNLKWLVtW6RBG1cKFCysdgiSNON/b9132YEmSJElSQUywJEmSJKkgJliSJEmSVBATLEmSJEkqiAmWJEmSJBXEBEuSJEmSCmKCJUmSJEkFMcGSJEmSpIKYYEmSJElSQUywJEmSJKkgJliSJEmSVBATLEmSJEkqiAmWJEmSJBXEBEuSJEmSCmKCJUmSJEkFMcGSJEmSpIKYYEmSJElSQUywJEmSJKkgJliSJEmSVBATLEmSJEkqiAmWJEmSJBXEBEuSJEmSCjJiCVZE/E9ErIuIu4dsmxIRV0bE/fm/k0dq/5IkSZI02kayB+sbwOk7bbsAuDqldCBwdf67JEmSJD0hjFiClVK6Hti40+YXAf+b//9/gReP1P4lSZIkabTVjPL+9ksprc7/vwbYb1dPjIjzgPMA5s6dS1tbGwCTJ0+mtraWtWvXAlBfX8+MGTNYvnz54OuYP38+q1evpre3F4DZs2fT3d1NZ2cnAFOmTKGmpoZ169YB0NDQwLRp01ixYgUA1dXVzJs3j1WrVrFt2zYA5syZQ2dnJ11dXQD09vYSEWzZsgWACRMmUF9fX9pHVVUVzc3NdHZ2MjAwAEBzczM9PT1s3769tN+UEj09PQDU1tYyceLE0j4Gy+jo6CClBEBLSwtbtmwplTFp0iQGBgZKZUycOJHa2tpSGdXV1TQ1NdHe3l6q25aWFjZv3kxfX1+pjP7+frZu3QpAXV0dNTU1dHd3A1BTkx0mg20AsGDBAtasWVN6zcyZM9m6dWtpP0Pbqb29nZqaGiZNmkRHR0epjNbWVrq6uujv7wegqamJbdu2ldqtvr6eqqoqNm/eXKrjhoaGUhkRQUtLyw513NTURG9vb6nd6uvrR72d2tra2H///Vm/fn1pvzNmzKCvr4+NGzeW9tHY2MiqVatK7TZr1qzH3U6NjY07lNHa2kp3d3epjMbGRvr6+nYoo7q6ulTHo91Og8fU1KlTqaqq4pFHHinF2draysqVK0txzZ07l5UrV5b+lsHjfiyeT8Npp56enmG/77W3t4/Z82k47bR69WpmzZrF8uXLS2XMnz+fdevWlV6z3377sW3bNjZt2lRqg7q6ulK7jMXzaTjtNHgOzp07l/b29tJxOn36dAYGBtiwYUNpH83NzTz88MOldgPG7Pk0nHbauHHjsK8j2tvbx+z5NJx2am9vp66ujjVr1pTqfObMmXt1HTEWz6fhtFNbWxu1tbXMnj2bhx56qPS3lHMd0d/fP2bPp+G00+6uy4dzHTGc972d22lXYvCEGwkRsQC4IqW0KP+9PaXUOuTxTSmlPc7DWrJkSVq6dOmIxTkcy5Ytq3QIo2rhwoXDfq11VT7rqnzWVfmsq/JZV+WzrspnXZXPuiqfdVV5EXF7SmnJzttHexXBtRExKw9oFrBulPcvSZIkSSNmtBOsnwJn5/8/G/jJKO9fkiRJkkbMSC7T/j3gZmBhRKyMiDcAFwHPjoj7gVPz3yVJkiTpCWHEFrlIKZ21i4dOGal9SpIkSVIljfYQQUmSJEl6wjLBkiRJkqSCmGBJkiRJUkFMsCRJkiSpICZYkiRJklQQEyxJkiRJKogJliRJkiQVxARLkiRJkgpigiVJkiRJBTHBkiRJkqSCmGBJkiRJUkFMsCRJkiSpICZYkiRJklQQEyxJkiRJKogJliRJkiQVxARLkiRJkgpigiVJkiRJBTHBkiRJkqSCmGBJkiRJUkFMsCRJkiSpICZYkiRJklQQEyxJkiRJKogJliRJkiQVxARLkiRJkgpigiVJkiRJBTHBkiRJkqSCmGBJkiRJUkFMsCRJkiSpICZYkiRJklQQEyxJkiRJKogJliRJkiQVxARLkiRJkgpigiVJkiRJBTHBkiRJkqSCmGBJkiRJUkFMsCRJkiSpICZYkiRJklQQEyxJkiRJKogJliRJkiQVxARLkiRJkgpigiVJkiRJBTHBkiRJkqSCmGBJkiRJUkFMsCRJkiSpIBVJsCLiXRFxT0TcHRHfi4i6SsQhSZIkSUUa9QQrIuYAbweWpJQWAdXAmaMdhyRJkiQVrVJDBGuA+oioARqAVRWKQ5IkSZIKUzPaO0wpPRwRnwVWAD3Ab1JKv9n5eRFxHnAewNy5c2lrawNg8uTJ1NbWsnbtWgDq6+uZMWMGy5cvH3wd8+fPZ/Xq1fT29gIwe/Zsuru76ezsBGDKlCnU1NSwbt06ABoaGpg2bRorVqwAoLq6mnnz5rFq1Sq2bdsGwJw5c+js7KSrqwuA3t5eIoItW7YAMGHCBOrr60v7qKqqorm5mc7OTgYGBgBobm6mp6eH7du3l/abUqKnpweA2tpaJk6cWNrHYBkdHR2klABoaWlhy5YtpTImTZrEwMBAqYyJEydSW1tbKqO6upqmpiba29tLddvS0sLmzZvp6+srldHf38/WrVsBqKuro6amhu7ubgBqarLDZLANABYsWMCaNWtKr5k5cyZbt24t7WdoO7W3t1NTU8OkSZPo6OgoldHa2kpXVxf9/f0ANDU1sW3btlK71dfXU1VVxebNm0t13NDQUCojImhpadmhjpuamujt7S21W319/ai3U1tbG/vvvz/r168v7XfGjBn09fWxcePG0j4aGxtZtWpVqd1mzZr1uNupsbFxhzJaW1vp7u4uldHY2EhfX98OZVRXV5fqeLTbafCYmjp1KlVVVTzyyCOlOFtbW1m5cmUprrlz57Jy5crS3zJ43I/F82k47dTT0zPs97329vYxez4Np51Wr17NrFmzWL58eamM+fPns27dutJr9ttvP7Zt28amTZtKbVBXV1dql7F4Pg2nnQbPwblz59Le3l46TqdPn87AwAAbNmwo7aO5uZmHH3641G7AmD2fhtNOGzduHPZ1RHt7+5g9n4bTTu3t7dTV1bFmzZpSnc+cOXOvriPG4vk0nHZqa2ujtraW2bNn89BDD5X+lnKuI/r7+8fs+TScdtrddflwriOG8763czvtSgyecKMlIiYDPwReAbQDlwKXpZS+vavXLFmyJC1dunR0AizTsmXLKh3CqFq4cOGwX2tdlc+6Kp91VT7rqnzWVfmsq/JZV+WzrspnXVVeRNyeUlqy8/Y9DhGMiKvL2bYXTgUeTCk9klLaDvwIOO5xlCdJkiRJ+4RdDhHMV/ZrAKblvU6RP9QMzHkc+1wBPD0iGsiGCJ4C7FvdU5IkSZI0DLubg/Um4J3AbOB2/pZgdQJfHu4OU0q3RMRlwB1AH/AH4L+GW54kSZIk7St2mWCllL4AfCEi3pZS+lKRO00pXQhcWGSZkiRJklRpe1xFMKX0pYg4Dlgw9PkppW+OYFySJEmSNObsMcGKiG8BTwbuBAbXJEyACZYkSZIkDVHOfbCWAIek0V7PXZIkSZLGmD0u0w7cDcwc6UAkSZIkaawrpwdrGnBvRNwK9A5uTCm9cMSikiRJkqQxqJwE6yMjHYQkSZIkPRGUs4rgdaMRiCRJkiSNdeWsIthFtmogQC0wAdicUmoeycAkSZIkaawppwerafD/ERHAi4Cnj2RQkiRJkjQWlbOKYEnK/Bh4zsiEI0mSJEljVzlDBF865NcqsvtibR2xiCRJkiRpjCpnFcEXDPl/H9BGNkxQkiRJkjREOXOwXjcagUiSJEnSWLfHOVgRMTciLo+IdfnPDyNi7mgEJ0mSJEljSTmLXFwM/BSYnf/8LN8mSZIkSRqinARrekrp4pRSX/7zDWD6CMclSZIkSWNOOQnWhoh4dURU5z+vBjaMdGCSJEmSNNaUk2C9HvgHYA2wGngZ4MIXkiRJkrSTclYRXA68cBRikSRJkqQxbZc9WBHxmYh402Nsf1NEXDSyYUmSJEnS2LO7IYInA//1GNv/G3j+yIQjSZIkSWPX7hKsiSmltPPGlNIAECMXkiRJkiSNTbtLsHoi4sCdN+bbekYuJEmSJEkam3a3yMU/A7+MiE8At+fblgAfAN45wnFJkiRJ0pizywQrpfTLiHgx8F7gbfnmu4G/TyndNQqxSZIkSdKYsttl2lNKdwNnj1IskiRJkjSmlXOjYUmSJElSGUywJEmSJKkgJliSJEmSVJDdzsECiIjpwLnAgqHPTym9fuTCkiRJkqSxZ48JFvAT4AbgKqB/ZMORJEmSpLGrnASrIaX0/hGPRJIkSZLGuHLmYF0REc8d8UgkSZIkaYzbZQ9WRHQBCQjggxHRC2zPf08ppebRCVGSJEmSxoZdJlgppabRDESSJEmSxro9DhGMiJdERMuQ31sj4sUjGpUkSZIkjUHlzMG6MKXUMfhLSqkduHDEIpIkSZKkMaqcBOuxnlPO6oOSJEmSNK6Uk2AtjYjPRcST85/PAbePdGCSJEmSNNaUk2C9DdgGfB+4BNgKvGUkg5IkSZKksaicoX7PTSldMHRDRLwcuHRkQpIkSZKksamcHqwPlLlNkiRJksa13d1o+AzgucCciPjikIeagb6RDkySJEmSxprdDRFcBSwFXsiOi1p0Ae8ayaAkSZIkaSzaZYKVUvoj8MeI+G5KaXuRO42IVuBrwCIgAa9PKd1c5D4kSZIkabSVs8jFgoj4f8AhQN3gxpTSkx7Hfr8A/Cql9LKIqAUaHkdZkiRJkrRPKGeRi4uBr5LNuzoJ+Cbw7eHuMCJagGcCXwdIKW1LKbUPtzxJkiRJ2leU04NVn1K6OiIipbQc+EhE3A788zD3eQDwCHBxRDyNbH7XO1JKm4c+KSLOA84DmDt3Lm1tbQBMnjyZ2tpa1q5dmwVXX8+MGTNYvnz54OuYP38+q1evpre3F4DZs2fT3d1NZ2cnAFOmTKGmpoZ169YB0NDQwLRp01ixYgUA1dXVzJs3j1WrVrFt2zYA5syZQ2dnJ11dXQCcfPnJDKQBDm06FIBVvau4f8v9nDj5RAC29G/hxvYbOaH1BBqqsw666zZdx4ENBzJ74mwA/tT1J6qiikWNiwBYsXUFK3pWcMLkEwDo6uvi5o6bOXHyiUysmgjANRuv4ZBJhzBz4kwA/tD5B+qr6zl40sEAPNjzIGt613Bs67EAdPR1cEvHLZw85WRqImvuKzdcyWFNhzG9djoASzuX0lLTwoENBwLwly1/Yf329RzTcgwAG7dv5LaFt5XaAGDBggWsWbOGrVu3AjBz5ky2bt1Ke3v7o9qpvb2dmpoaJk2aREdHR6mM1tZWurq66O/vB6CpqYlt27aV2q2+vp6qqio2b84OjQkTJtDQ0FAqIyJoaWmhs7OTgYGBUhm9vb2ldquvryci2LJlS6mM+vr60rFQVVVFc3PzDmU0NzfT09PD9u3bS8dHSomenh4AamtrmThxYulYGCyjo6ODlBJtbW3sv//+rF+/vrTfGTNm0NfXx8aNG0v7aGxsZNWqVQBMnDiRWbNmleoPoKWlhc2bN9PXl60pM2nSJPr7+0t1XldXR01NDd3d3QDU1NTQ2Ni4Qxmtra10d3eXymhsbKSvr2+HMqqrq0t1PNrtNHhMTZ06laqqKh555JFSnK2traxcubIU19y5c1m5cmXpbxkYGHhc7TRYx1u2bCmVMWnSpFK5g+1SW1tbKqO6upqmpqaKtFNPT8+w3/fa29vH7Pk0nHZavXo1s2bNYvny5aUy5s+fz7p160qv2W+//di2bRubNm0qtUFdXV2pXcbi+TScdho8B+fOnUt7e3vpOJ0+fToDAwNs2LChtI/m5mYefvjhUrsBY/Z8Gk47bdy4cdjXEe3t7WP2fBpOO7W3t1NXV8eaNWtKdT5z5sy9uo4Yi+fTcNqpra2N2tpaZs+ezUMPPVT6W8q5jujv7x+z59Nw2ml31+XDuY4Yzvvezu20KzF4wu3yCRE3AScAlwHXAA8DF6WUFu72hbsubwnwe+D4lNItEfEFoDOl9OFdvWbJkiVp6dKlw9ndiImPRqVDGFXpwt0fJ7uzbNmyAiPZ9y1cOKxTA7Cu9oZ1VT7rqnzWVfmsq/JZV+WzrspnXVVeRNyeUlqy8/Zyhgi+g2yO1NuBI4HXAGc/jlhWAitTSrfkv18GHPE4ypMkSZKkfcIehwimlG7L/9sNvO7x7jCltCYiHoqIhSmlZcApwL2Pt1xJkiRJqrTd3Wj4p7t7YUrphY9jv28DvpOvIPhXCkjcJEmSJKnSdteDdSzwEPA94BagsElHKaU7gUeNV5QkSZKksWx3CdZM4NnAWcArgZ8D30sp3TMagUmSJEnSWLPLRS5SSv0ppV+llM4Gng48APw2It46atFJkiRJ0hiy20UuImIi8DyyXqwFwBeBy0c+LEmSJEkae3a3yMU3gUXAL4CPppTuHrWoJEmSJGkM2l0P1quBzWT3wXp7RGmNiwBSSql5hGOTJEmSpDFllwlWSqmcmxBLkiRJknImUZIkSZJUEBMsSZIkSSqICZYkSZIkFcQES5IkSZIKYoIlSZIkSQUxwZIkSZKkgphgSZIkSVJBTLAkSZIkqSAmWJIkSZJUEBMsSZIkSSqICZYkSZIkFcQES5IkSZIKYoIlSZIkSQUxwZIkSZKkgphgSZIkSVJBaiodgJ74Dr7k4EqHMKrShWnYr7WuJEmSxjZ7sCRJkiSpICZYkiRJklQQEyxJkiRJKogJliRJkiQVxARLkiRJkgpigiVJkiRJBTHBkiRJkqSCmGBJkiRJUkFMsCRJkiSpICZYkiRJklQQEyxJkiRJKogJliRJkiQVxARLkiRJkgpigiVJkiRJBTHBkiRJkqSCmGBJkiRJUkFMsCRJkiSpICZYkiRJklQQEyxJkiRJKogJliRJkiQVxARLkiRJkgpigiVJkiRJBalYghUR1RHxh4i4olIxSJIkSVKRKtmD9Q7gvgruX5IkSZIKVZEEKyLmAs8DvlaJ/UuSJEnSSKip0H4/D7wPaNrVEyLiPOA8gLlz59LW1gbA5MmTqa2tZe3atQDU19czY8YMli9fPvg65s+fz+rVq+nt7QVg9uzZdHd309nZCcCUKVOoqalh3bp1ADQ0NDBt2jRWrFgBQHV1NfPmzWPVqlVs27YNgDlz5tDZ2UlXV1dW5sTZDKQBDm06FIBVvau4f8v9nDj5RAC29G/hxvYbOaH1BBqqGwC4btN1HNhwILMnzgbgT11/oiqqWNS4CIAVW1ewomcFJ0w+AYCuvi5u7riZEyefyMSqiQBcs/EaDpl0CDMnzgTgD51/oL66noMnHQzAgz0PsqZ3Dce2HgtAR18Ht3TcwslTTqYmsua+csOVHNZ0GNNrpwOwtHMpLTUtHNhwIAB/2fIX1m9fzzEtxwCwcftGgFIbACxYsIA1a9awdetWAGbOnMnWrVtpb29/VDudNvU0Htn2CHd23cmzpz4bgL7UxzUbr+GYlmNoqWkB4Ob2m5k5cSYH1B8AwJ83/5me/h4Obz4cgDW9a7h3872cPOVkAHoHerlu03Uc23IsTTXZoXTjphvZv35/9q/bH4C7u+8e9XZqa2tj//33Z/369WzZsgWAGTNm0NfXx8aNWV02NzfT2NjIqlWrAJg4cSKzZs163O20tHMpz57ybCKClBJXbrySJc1LmDJhCgC3dNzCtAnTeHLDkwG4f8v9dPR1sKR5CcCot9PgMTV16lSqqqp45JFHAGhsbKS1tZWVK1cCUFNTw9y5c1m5ciV9fX0ADAwM0NPTw/bt24HsPE4p0dPTA0BtbS0TJ04snbNVVVU0NzfT0dFBSgmAlpYWtmzZUipj0qRJpXIH26W2trZURnV1NU1NTaXjfLCMzZs3l+KaNGkS/f39pXOjrq6Ompoauru7S39LY2PjDmW0trbS3d1dKqOxsZG+vr4dyujp6Rn2+157ezv19fVUVVWxefNmACZMmEBDQwMdHR2lMlpaWujs7GRgYACApqYment7S++D9fX1RETpuJ4wYQL19fWl99bBOh5aRnNz86i30+rVq5k1axbLly8vlTF//nzWrVtXes1+++3Htm3b2LRpU6kN6urqSu0y3Haqrq4u1XFNTQ2TJk0q1fFgGV1dXfT395fqeNu2baV2G+12GjwH586dS3t7e+k4nT59OgMDA2zYsKG0j+bmZh5++OFSuwFj9nwaTjtt3Lhx2NcR7e3tY/Z8Gk47tbe3U1dXx5o1a0p1PnPmzL26jhiL59Nw2qmtrY3a2lpmz57NQw89VPpbyrmO6O/vH7Pn03DaaXfX5cO5jhjO+97O7bQrMXjCjZaIeD7w3JTSWyLiWcB7UkrP391rlixZkpYuXToa4ZUtPhqVDmFUpQuHf5xYV+Wzrsq3bNmyAiPZ9y1cuHDYr7Wuymddlc+6Kp91VT7rqnzWVeVFxO0ppSU7b6/EEMHjgRdGRBtwCXByRHy7AnFIkiRJUqFGPcFKKX0gpTQ3pbQAOBO4JqX06tGOQ5IkSZKK5n2wJEmSJKkglVrkAoCU0m+B31YyBkmSJEkqij1YkiRJklQQEyxJkiRJKogJliRJkiQVxARLkiRJkgpigiVJkiRJBTHBkiRJkqSCmGBJkiRJUkFMsCRJkiSpICZYkiRJklQQEyxJkiRJKogJliRJkiQVxARLkiRJkgpigiVJkiRJBTHBkiRJkqSCmGBJkiRJUkFMsCRJkiSpICZYkiRJklQQEyxJkiRJKogJliRJkiQVxARLkiRJkgpigiVJkiRJBampdACSNBwHX3JwpUMYVenCNOzXWlfls67KZ11J0mOzB0uSJEmSCmKCJUmSJEkFMcGSJEmSpIKYYEmSJElSQUywJEmSJKkgJliSJEmSVBATLEmSJEkqiAmWJEmSJBXEBEuSJEmSCmKCJUmSJEkFMcGSJEmSpIKYYEmSJElSQUywJEmSJKkgJliSJEmSVBATLEmSJEkqiAmWJEmSJBXEBEuSJEmSCmKCJUmSJEkFMcGSJEmSpIKYYEmSJElSQUywJEmSJKkgJliSJEmSVJBRT7AiYl5EXBsR90bEPRHxjtGOQZIkSZJGQk0F9tkH/GNK6Y6IaAJuj4grU0r3ViAWSZIkSSrMqPdgpZRWp5TuyP/fBdwHzBntOCRJkiSpaBWdgxURC4DDgVsqGYckSZIkFaESQwQBiIhG4IfAO1NKnY/x+HnAeQBz586lra0NgMmTJ1NbW8vatWsBqK+vZ8aMGSxfvnzwdcyfP5/Vq1fT29sLwOzZs+nu7qazM9vNlClTqKmpYd26dQA0NDQwbdo0VqxYAUB1dTXz5s1j1apVbNu2DYA5c+bQ2dlJV1dXVubE2QykAQ5tOhSAVb2ruH/L/Zw4+UQAtvRv4cb2Gzmh9QQaqhsAuG7TdRzYcCCzJ84G4E9df6IqqljUuAiAFVtXsKJnBSdMPgGArr4ubu64mRMnn8jEqokAXLPxGg6ZdAgzJ84E4A+df6C+up6DJx0MwIM9D7Kmdw3Hth4LQEdfB7d03MLJU06mJrLmvnLDlRzWdBjTa6cDsLRzKS01LRzYcCAAf9nyF9ZvX88xLccAsHH7RoBSGwAsWLCANWvWsHXrVgBmzpzJ1q1baW9vf1Q7nTb1NB7Z9gh3dt3Js6c+G4C+1Mc1G6/hmJZjaKlpAeDm9puZOXEmB9QfAMCfN/+Znv4eDm8+HIA1vWu4d/O9nDzlZAB6B3q5btN1HNtyLE01TQDcuOlG9q/fn/3r9gfg7u67R72d2tra2H///Vm/fj1btmwBYMaMGfT19bFxY1aXzc3NNDY2smrVKgAmTpzIrFmzHnc7Le1cyrOnPJuIIKXElRuvZEnzEqZMmALALR23MG3CNJ7c8GQA7t9yPx19HSxpXgIw6u00eExNnTqVqqoqHnnkEQAaGxtpbW1l5cqVANTU1DB37lxWrlxJX19fVmdVE8fs+TScdurp6Rn2+95pU08bs+fTcNpp9erVzJo1i+XLl5NSAmD+/PmsW7eOnp4eAPbbbz+2bdvGpk2bAGhtbaWuro7Tpp72uNqpkufTcNpp8BycO3cu7e3tdHd3AzB9+nQGBgbYsGEDAE1NTTQ3N/Pwww8DUFtbCzBmz6fhtNPGjRuHfR3x9ivfPmbPp+G00/f3+z51dXWsWbMGgLq6OmbOnLlX1xF1dXVUV1ezefNmIPscmDRpEh0dHaUyWltb6erqor+/v3Scbtu2rfQ+WF9fT1VVVamMCRMm0NDQUCojImhpaaGzs5OBgYFSGb29vaXrv/r6eiKi9Hk+YcIE6uvrS8dCVVUVzc3NO5TR3NxMT08P27dvLx0fKaXS+09tbS0TJ06kq6uLtrY2amtrmT17Ng899FDpbynnOqK/v790XVpdXU1TU1Op/gBaWlrYvHlz6XNz0qRJ9Pf3l+q8rq6Ompqa0nlfU1NDY2PjDmW0trbS3d1dKqOxsZG+vr4dyhitdtrddflwriOG8763czvtSgx++IymiJgAXAH8OqX0uT09f8mSJWnp0qUjH9heiI9GpUMYVenC4R8n1lX5rKvyWVfls67KZ12Vz7oqn3VVvmXLlhUYyb5v4cKFw36tdVV5EXF7SmnJztsrsYpgAF8H7isnuZIkSZKksaISc7COB14DnBwRd+Y/z61AHJIkSZJUqFGfg5VSuhEYX33lkiRJksaFiq4iKEmSJElPJCZYkiRJklQQEyxJkiRJKogJliRJkiQVxARLkiRJkgpigiVJkiRJBTHBkiRJkqSCmGBJkiRJUkFMsCRJkiSpICZYkiRJklQQEyxJkiRJKogJliRJkiQVxARLkiRJkgpigiVJkiRJBTHBkiRJkqSCmGBJkiRJUkFMsCRJkiSpICZYkiRJklQQEyxJkiRJKogJliRJkiQVxARLkiRJkgpSU+kAJEmSJICDLzm40iGMqnRhGvZrrat9lz1YkiRJklQQEyxJkiRJKogJliRJkiQVxARLkiRJkgpigiVJkiRJBTHBkiRJkqSCmGBJkiRJUkFMsCRJkiSpICZYkiRJklQQEyxJkiRJKogJliRJkiQVxARLkiRJkgpigiVJkiRJBTHBkiRJkqSCmGBJkiRJUkFMsCRJkiSpICZYkiRJklQQEyxJkiRJKogJliRJkiQVxARLkiRJkgpigiVJkiRJBTHBkiRJkqSCVCTBiojTI2JZRDwQERdUIgZJkiRJKtqoJ1gRUQ38O3AGcAhwVkQcMtpxSJIkSVLRKtGDdTTwQErprymlbcAlwIsqEIckSZIkFaoSCdYc4KEhv6/Mt0mSJEnSmBYppdHdYcTLgNNTSm/Mf38NcExK6a07Pe884Lz814XAslENdN81DVhf6SDGCOuqfNZV+ayr8llX5bOuymddlc+6Kp91VT7r6m/mp5Sm77yxpgKBPAzMG/L73HzbDlJK/wX812gFNVZExNKU0pJKxzEWWFfls67KZ12Vz7oqn3VVPuuqfNZV+ayr8llXe1aJIYK3AQdGxAERUQucCfy0AnFIkiRJUqFGvQcrpdQXEW8Ffg1UA/+TUrpntOOQJEmSpKJVYoggKaVfAL+oxL6fABw2WT7rqnzWVfmsq/JZV+WzrspnXZXPuiqfdVU+62oPRn2RC0mSJEl6oqrEHCxJkiRJekIywdKYFhFR6RgkSZKkQSZY+5CIaK50DGNFRDw5IlqSY1z3KCKmmIhKlRMRsyodw1jje9aeRcR+lY5hrPB40mgzwdpHRMRzgE9FxIJKx7Kvi4gzgK8Dr4yIlkrHsy+LiOcCnwBM3vcgImZEpib/3Q/k3YiIJ0XE3IiYUOlY9mV5cvXJiHh9pWPZ10XE4RHxooiYmVJKEeE1yi5ExELgqoiYVulYxgK/jC1PRBwRES+odBxPBL557QPyhOFfgZ8Ba/NtXtw9hryuPge8D/hGSqmjwiHtsyLiNLLk6pvW0+5FxOlk5983gA9FxCQ/kHctP7a+CbwAWFjhcPZZ+aiENcCNwDER8ZoKh7TPys/BS4G/Bx6IiOkppQE/C3epA1iVUlpf6UD2dRFxUkR8KSLOjohDKx3PvioiqoFDgHebZD1+JlgVlH9bPgP4CPCOlNKvgcEPlAMrGtw+KK+XlwHvSyndCmzLt3sc7yTvEf0hsDql9Pt8W3Vlo9o35R8kHwb+CbgSmA4cnT8WXuDtKCKeB/wb8EGyLznuzrdX5LYf+6r8HLwWOD6l9D9kSdaJJlmPFhHPBj4NvCGl9FrgO8BxEbGfX3TsKCLm5f9NQG0lYxkL8vPwc8Am4LnA30fEJN/XHy2l1A/8Evgs8OaIOLnCIY1pXphWVgPQBaxJKV0dEa1kPTM/Ba6OiH+pZHD7kvzNsAb4O2DwjXEAIKU0kD9namWi27dExKnAJ4HXA9si4suQvXmaZO0oIuqB7wF3ppSuTCl9m+yDePBbzhov8P4mIhqBtwPvSildn1Lqybe/G/hIRDRVNMB9y0HAU4ELI+I5KaVvAddhkrWDiJgIvBu4I6V0XZ5A/ANwFtkQuDdGRENFg9wH5N/1NAPX5edbDTDNc27XImIxWcLwjpTSP5ONFHo6MN339b8ZTNojojqltAF4EFgAfCAiXlTJ2MYyE6wKiYgjgEvzC5TqiLgd+BPwJOAK4FnAGyLiZZWLct+RMtuBXwEHRUTj0DH6+QfPq8b7h01EnAR8HviflNKlwDuBAyPiS1BKsjzvgYhYQjY37TTgHyLidflD84C3R8TPgR9ExMnhIgWDasm+GLprcEP+RdDZQCPw6Yioq1Bs+5rvAV8lu8A7PyKePyTJOiEizq1odPuAiDgAmAi8GZgZEZ8EfgD8c0rpTOBj+WNPqlyU+4wpKaVO4EzgPOBcsgvhf4iIMyLitIg4MiKeERFzKxpphQ3pnWoDLgfeBJCPfEnAxyPi/8t7t8atnZP2/PpgDvCfwP8CXwDOjYjnVzTQMcoLrVE25MSfDnQDpJSeT/ZB8hayN83/SSn9hexO2X2ViHNfEREHRsTTI+KUwTcCsm+gnhERTYO9V8DzgBeSfViPS/n8tI+TDd+6BSCltBx4A/CUIUnWwHhOsiKiOk/EPw88JaV0E/Ai4N8i4rdkicIJZEOW7iO7mNlemWj3DfmHLimljWQXLScMefhysiGV/5b/PmVUg9uHRMShQ+Z4bCQbxnwIWaL1poh4bp5k3QYsjnG8cmxkc66+SfaZtxr4R+AwsnlFg+9Vl5Kdg+N6nl9kixX9ICIW5knCq8iGyz8fWEzWq/xBspELn2WcXzeQD51MKXWR1VWKiEvzL4OagD+SHVNfjGxu1rgcapl/cd0JvBo4LyI+SDY89/sppU+TXW99D3h/fr5qLzhmfvTtRzbpeRt/G+pGSuknQ58UEWeRjRf++qhGtw/J53p8HFhO9qb4ZLLehl+TDX87KiKWkV3Q/X/AWeN1wm9EnAh8CXj14JyrfPtTU0r3RMQ5wNci4uKU0uuGJKbj0UBKqSsiOoDNACmlm/J5IFeTzfFbHRFrU0rXR7bgxeaKRlxB+cXdOyPiwymlW4B7gGdGxLKU0p9SSjfnz3smcACwtYLhVkw+RPlO4OGIeBfZ+9aHyL4FDrILl/MjYkJK6WsR0Zxf3Iw7+ZdBnwHenFK6Id98b15v/x4R700pfSb/HDySbH7kuJRf2F4EfDiltAwgpXR7RLyc7MuN21JK7xzy/KY8sRiXIluA580R8UfgTymlH0XEm8h6Zd5C1hM4OH+7BWge/H08iWwVygGgO//8Oxu4GLgnpTQ4raArH8mxjex9X3th3H6LXQkRMZ1sbtWLyb7dnP4Yz5kbEZ8i+0B5ZUrpgdGNct+Qf6h8mGyux0tSSqeSfdv5S+Aasg+cbrLhEk8FXpFSumtX5Y0DhwNf2im5+gxZ1//bUkoryYZJtMQ4vndK/qEyOOx2K9lwNyKiNqV0G3A68ImIePuQJHTL6Ee6b8iH0HwK+H/A0nzzV8m+IT4/Il4XEQdExHlkPRDvynu5xp187sKpwByyOXyDPTRbyOZ8XEJ2QfzKPGkfd8lVPiSpFngJcEFK6YYhw7wnpJT+j2xY80kRcTnwHuDvU0ptlYq5kvIE4HzgH1NKP4lscYZpEfF0YBnwYrJVTz8w5GXdFQh1n5BfN3wcuIrsS40zIuLA/AuyNwM/Br4R+a0lUkodKaWHKhVvpcTfVs39KPCLvGf0FuCVwBERcf7gc1NK7cBl47GeHq9wnt/oiogzyT40rgdayQ7wSUA7sA6YQfYhfXNK6f7KRFlZETEFWA+8MKV0RUTUpZS25o99jCypOjL/diXG82TVwb8/H/7XkVL6p3z7GcAryIaZfo9sku+PI6ImpTQuh49ENpn+zWQXvz8nGzp5YZ5YDX3e8cC3yZLWjvF6fEU2l+oS4NsppcsiYhLZ8MknkV3cvQZYQvZF0TbgQ+P8Sw4AIuIU4H+AI8iS+VcCD5H1uk8k+9wdd8nVUBHxdeBXKaVLI5tY3z/ksWayUQkXAR9NKd1XqTgrKbJ52n1kCefvyEZuvJdsJMdTgBvIbsPRQvY+f0p+MTwuDblueFFK6WeRzUP7JPAfQ3rZa8ne03pSSq+qXLSVk78/fYEscV8KXEA2F/n9KaXtEXEM2e1KvpZS+teKBfoEYII1CiLiqUA18Eg+9OiFwH8AM8m6ZE8k+9ZpM1APnDieu/ihNDzwIuBZKaUNETExpdSbP3Yt2TCu23ZbyDiSv2leQPYmeUf+DV2klLZFxD8Bf00pfbeyUVZOZIt/nA78C/Basi8yXkP2xcZPyc7FLrJ7y9wI/HY8DhsZKrIVJ/+T7D1qJfAusiGAx5Jd7L0zPzfryYZd9lYs2H1MPqzy08CxKaXuiDggpfRgpeOqpLyXeHBo1r+RDU36cP576YufiLgA+CLQOzTxGk/yHoZPkc0TnUU2X+ilZLfeuBz4K9mXRX/Mh5uWvoQcz/Lrhn8hO+868+FtLWSJxAqy97IAalNKayoXaWVEtlL114GtgwlmRBwOvJFsyO72lNLD+bb/Ak5LKW2qVLxjnXOwRlg+xObfyeZ2HBHZSlI/jYjtZB/Al6eU3pB/sxJAy3hPrgBSSj+PiAHg1ohYklLalA8h2Q50Aj0VDnFf83uybznPzC9WboXSXL4zyJKJcWdID+cUsoRzQ0RcTNarsIxsSfY/ALPJepSrgRXjNbka2iOcshWl7iabND+HbNjN/5INS/oV2TfrH075Uu36m5TSLyJbz+i2iDh+MLkarz3uQ+bF/An4LdlF8O0R0Z5S+tchydVryOYe/3dKaVwOzY2/zad9VUrp1rznvRm4eMh8NSJiCzA//3Vcvl/tbMh1w+0R8SuyaTD/StbL/kbym+iOx2HMka0EeARZfVwQER9L2dL1rycbFfQk4KkR8S2yG34fO15HuxTFBGsERXYD0/cBb0wp/TYfxtUcEVtTSr/Mh+B8PCKmpJS+mb9sXcUC3sfkdfRWYOmQJOu1ZL0N1tMQKaXNEfHfZMPe/iUi/kCWhL4MeHFK6a8VDbByashWAGwFJkM2pjwi/pdsuNZMoCul9IWKRbhvqQb6BnsbUkqfj4hfAnUppT/myXsa3FbhWPdpeZI1gexeTkvIF+2qdFyjLe+N+SjZfLT9yHqQ30W2cucVkc1N/gswgaxX5qx8Ptt4dSTw5Ty5qs17hh/JfwDIPwdPB14Of7sXpErXDW8GfgPMSimtBYiIr/G3pe7HlTy5+iTw8ZQtaHEe8N/5aKB+YGY+PPBFZENQN5lcPX4ucjECIqIqHzbz32Q3Ef5tROxP9k3Bh4E/RcSJKaXLyb7Je1NENEV4Z/GdpZR+CbwVuD5/0zwfeENKyQRrJymlh8m6+T9ENtTtQeB5KaV7KxpYhUTENOD+yCaKryP7FhjIElKyceYrgZdHtvAM4/kczOvrgfwLn215rzoppWUppT/m/+/LexnOAX6y69IEpdVhn5lSGhinydUU4BfAJ1JK/0427KgKeGo+xPtIskVAnkJ2Y+YzU0p3VyreShry3nMAf1sAa/tOzzkwvzh+L9kiWP83iiGOGSmlq8hu3XJtRMzItw2kcbjKcETMJFuA6I35XNqGfHjkx8impVyZP68mf7/6Qspu76LHyR6skVGTUuqJiGPJVnH7PNkHyAdTSl+IiLcAP4uIQ1JK34uIn6WUxu3KP3uSfyNVDfwIODyl5HKhu5AP1/pd/jOupZTWR8TbyeZUXQTckU987gaq8+GCvyC78eRN+WvG3UXwoLy+3gbcFBHH5j3GNUB/3mvVSrYS5T+Q3Q5gXC4+sLfG83t7SmljPpLjXyLiupTSyrzH6tMRcSfZ8Nz/TCmtjYiq8dwTM+S953LggxFxZMqWY6/KHx8gGz7ZQ/bF2YoKhTom5NcNtcCv8hEw4/XY6iVL1Lfmo6beFxHPIhseX0d2L7XJZEPB14/XeY8jwQSrYJHdS+f1EXEvcAVwDNlNX+8fHIaUUvpKZCuVTQNWjucP4HKlbDXB1vE6Ll/Dk8933Eo2Z6iXbAXBQ4CaiFhPdk+685z3mEnZ6lt97Dgst4ZsNbODyD6UX5SyZf+lPXqMeTFBNg9kBlnCfnxEvHM8Dt3ahVvIvhR6RUSQUrodSisQn0nWy2dyVYaULW1/9ThOriBbyOnXZAnUU8nm0n6b7AbeLyG7X9/TGXJfVhXDVQQLlI81/xjwLbKx5vPJ7mdVBdwK/GtK6aKIeCXZUMFT82FdkkZQRDyDbGn2J5ElCQeR3YuuIY3z1d0eS2TL/H8ZGEyy3gq8AzjJ5ErDERGn8uh5MVVk82LG3dCt3YmIOWTzaU8hWwFvcD7ty5O3QtBeiohGYDEwD/hJ+tuKzP8LXJJPxVDBTLAKEo++B8M8sm8MLkvZvT4OJFs96V6ym3S+ebzOjZEqIbKls/+F7H4xaysdz74uT7I+TTZX7VyyxQfurGRMGtvyY+pfyW6/4Tza3cjncR9Jdl/M1cC1zrlSUSLi5WS3dnlFSumBSsfzROQQwYI8xljzhyJbin1KZDdSvD+ye/FcTnahYnIljaIhq7r9Kp/fMJ6HjexRPoehCvgZ2dzHP1Y6Jo1tzospXz6f9sb8RypERMwCXkH2pZnJ1QiyB6tg+Td0XyQb8zqbbKWfrfkKLX0x5IaKkkZfRDQ677F8+apTzn1UYTwHpcrIe0ZPBpaZXI0sE6wRMGSs+cyU0roYcpf1iPF5o0lJkiRpPPA+WCNg53swDCZX+WMmV5IkSdITlHOwRsjOY82zTSZXkiRJ0hOZQwRHmGPNJUmSpPHDBEuSJEmSCuIcLEmSJEkqiAmWJEmSJBXEBEuSJEmSCmKCJUmSJEkFMcGSJEmSpIKYYEmSJElSQf5/rXmVphFv6hEAAAAASUVORK5CYII=\n",
       "datasetInfos": [],
       "metadata": {},
       "removedWidgets": [],
       "type": "image"
      }
     },
     "output_type": "display_data"
    }
   ],
   "source": [
    "# 6. Convert to Pandas for plotting\n",
    "pandas_df = toss_and_match_win_df.toPandas()\n",
    "pandas_df['toss_and_match_wins'] = pandas_df['toss_and_match_wins'].astype(int)\n",
    "pandas_df['total_matches'] = pandas_df['total_matches'].astype(int)\n",
    "\n",
    "# 7. Plotting\n",
    "import matplotlib.pyplot as plt\n",
    "\n",
    "plt.figure(figsize=(12, 6))\n",
    "plt.bar(pandas_df['team'], pandas_df['total_matches'], alpha=0.3, label='Total Matches', color='grey')\n",
    "plt.bar(pandas_df['team'], pandas_df['toss_and_match_wins'], label='Won Toss and Match', color='green')\n",
    "plt.xticks(rotation=45, ha='right')\n",
    "plt.ylabel(\"Match Count\")\n",
    "plt.title(\"Toss and Match Wins vs Total Matches by Team\")\n",
    "plt.legend()\n",
    "plt.tight_layout()\n",
    "plt.grid(axis='y', linestyle='--', alpha=0.5)\n",
    "plt.show()"
   ]
  },
  {
   "cell_type": "markdown",
   "metadata": {
    "application/vnd.databricks.v1+cell": {
     "cellMetadata": {
      "byteLimit": 2048000,
      "rowLimit": 10000
     },
     "inputWidgets": {},
     "nuid": "1cddec89-8c3b-4c93-b4ff-968bd1219420",
     "showTitle": false,
     "tableResultSettingsMap": {},
     "title": ""
    }
   },
   "source": [
    "### **Most Extra runs given by each team**"
   ]
  },
  {
   "cell_type": "code",
   "execution_count": 0,
   "metadata": {
    "application/vnd.databricks.v1+cell": {
     "cellMetadata": {
      "byteLimit": 2048000,
      "implicitDf": true,
      "rowLimit": 10000
     },
     "inputWidgets": {},
     "nuid": "1829906f-9a68-4093-af9b-b0e610c1015f",
     "showTitle": false,
     "tableResultSettingsMap": {},
     "title": ""
    }
   },
   "outputs": [],
   "source": [
    "extras_df = deliveries_df.groupby(\"bowling_team\") \\\n",
    "    .agg(sum(\"extras\").alias(\"total_extras\")) \\\n",
    "    .orderBy(col(\"total_extras\").desc())"
   ]
  },
  {
   "cell_type": "code",
   "execution_count": 0,
   "metadata": {
    "application/vnd.databricks.v1+cell": {
     "cellMetadata": {
      "byteLimit": 2048000,
      "rowLimit": 10000
     },
     "inputWidgets": {},
     "nuid": "fe4924a5-5ca8-4f72-a902-7a39de6f03c0",
     "showTitle": false,
     "tableResultSettingsMap": {},
     "title": ""
    }
   },
   "outputs": [
    {
     "output_type": "display_data",
     "data": {
      "text/html": [
       "<html>\n",
       "<head><meta charset=\"utf-8\" /></head>\n",
       "<body>\n",
       "    <div>            <script src=\"https://cdnjs.cloudflare.com/ajax/libs/mathjax/2.7.5/MathJax.js?config=TeX-AMS-MML_SVG\"></script><script type=\"text/javascript\">if (window.MathJax) {MathJax.Hub.Config({SVG: {font: \"STIX-Web\"}});}</script>                <script type=\"text/javascript\">window.PlotlyConfig = {MathJaxConfig: 'local'};</script>\n",
       "        <script src=\"https://cdn.plot.ly/plotly-2.9.0.min.js\"></script>                <div id=\"77cd45ff-b32b-4ee0-84c7-1f2385c757c6\" class=\"plotly-graph-div\" style=\"height:600px; width:100%;\"></div>            <script type=\"text/javascript\">                                    window.PLOTLYENV=window.PLOTLYENV || {};                                    if (document.getElementById(\"77cd45ff-b32b-4ee0-84c7-1f2385c757c6\")) {                    Plotly.newPlot(                        \"77cd45ff-b32b-4ee0-84c7-1f2385c757c6\",                        [{\"alignmentgroup\":\"True\",\"hovertemplate\":\"Total Extras=%{marker.color}<br>Bowling Team=%{y}<extra></extra>\",\"legendgroup\":\"\",\"marker\":{\"color\":[53,67,76,83,95,99,99,101,108,133],\"coloraxis\":\"coloraxis\",\"pattern\":{\"shape\":\"\"}},\"name\":\"\",\"offsetgroup\":\"\",\"orientation\":\"h\",\"showlegend\":false,\"textposition\":\"outside\",\"x\":[53,67,76,83,95,99,99,101,108,133],\"xaxis\":\"x\",\"y\":[\"RCB\",\"KKR\",\"LSG\",\"SRH\",\"DC\",\"GT\",\"PBKS\",\"CSK\",\"MI\",\"RR\"],\"yaxis\":\"y\",\"type\":\"bar\",\"texttemplate\":\"%{x}\"}],                        {\"template\":{\"data\":{\"bar\":[{\"error_x\":{\"color\":\"#2a3f5f\"},\"error_y\":{\"color\":\"#2a3f5f\"},\"marker\":{\"line\":{\"color\":\"#E5ECF6\",\"width\":0.5},\"pattern\":{\"fillmode\":\"overlay\",\"size\":10,\"solidity\":0.2}},\"type\":\"bar\"}],\"barpolar\":[{\"marker\":{\"line\":{\"color\":\"#E5ECF6\",\"width\":0.5},\"pattern\":{\"fillmode\":\"overlay\",\"size\":10,\"solidity\":0.2}},\"type\":\"barpolar\"}],\"carpet\":[{\"aaxis\":{\"endlinecolor\":\"#2a3f5f\",\"gridcolor\":\"white\",\"linecolor\":\"white\",\"minorgridcolor\":\"white\",\"startlinecolor\":\"#2a3f5f\"},\"baxis\":{\"endlinecolor\":\"#2a3f5f\",\"gridcolor\":\"white\",\"linecolor\":\"white\",\"minorgridcolor\":\"white\",\"startlinecolor\":\"#2a3f5f\"},\"type\":\"carpet\"}],\"choropleth\":[{\"colorbar\":{\"outlinewidth\":0,\"ticks\":\"\"},\"type\":\"choropleth\"}],\"contour\":[{\"colorbar\":{\"outlinewidth\":0,\"ticks\":\"\"},\"colorscale\":[[0.0,\"#0d0887\"],[0.1111111111111111,\"#46039f\"],[0.2222222222222222,\"#7201a8\"],[0.3333333333333333,\"#9c179e\"],[0.4444444444444444,\"#bd3786\"],[0.5555555555555556,\"#d8576b\"],[0.6666666666666666,\"#ed7953\"],[0.7777777777777778,\"#fb9f3a\"],[0.8888888888888888,\"#fdca26\"],[1.0,\"#f0f921\"]],\"type\":\"contour\"}],\"contourcarpet\":[{\"colorbar\":{\"outlinewidth\":0,\"ticks\":\"\"},\"type\":\"contourcarpet\"}],\"heatmap\":[{\"colorbar\":{\"outlinewidth\":0,\"ticks\":\"\"},\"colorscale\":[[0.0,\"#0d0887\"],[0.1111111111111111,\"#46039f\"],[0.2222222222222222,\"#7201a8\"],[0.3333333333333333,\"#9c179e\"],[0.4444444444444444,\"#bd3786\"],[0.5555555555555556,\"#d8576b\"],[0.6666666666666666,\"#ed7953\"],[0.7777777777777778,\"#fb9f3a\"],[0.8888888888888888,\"#fdca26\"],[1.0,\"#f0f921\"]],\"type\":\"heatmap\"}],\"heatmapgl\":[{\"colorbar\":{\"outlinewidth\":0,\"ticks\":\"\"},\"colorscale\":[[0.0,\"#0d0887\"],[0.1111111111111111,\"#46039f\"],[0.2222222222222222,\"#7201a8\"],[0.3333333333333333,\"#9c179e\"],[0.4444444444444444,\"#bd3786\"],[0.5555555555555556,\"#d8576b\"],[0.6666666666666666,\"#ed7953\"],[0.7777777777777778,\"#fb9f3a\"],[0.8888888888888888,\"#fdca26\"],[1.0,\"#f0f921\"]],\"type\":\"heatmapgl\"}],\"histogram\":[{\"marker\":{\"pattern\":{\"fillmode\":\"overlay\",\"size\":10,\"solidity\":0.2}},\"type\":\"histogram\"}],\"histogram2d\":[{\"colorbar\":{\"outlinewidth\":0,\"ticks\":\"\"},\"colorscale\":[[0.0,\"#0d0887\"],[0.1111111111111111,\"#46039f\"],[0.2222222222222222,\"#7201a8\"],[0.3333333333333333,\"#9c179e\"],[0.4444444444444444,\"#bd3786\"],[0.5555555555555556,\"#d8576b\"],[0.6666666666666666,\"#ed7953\"],[0.7777777777777778,\"#fb9f3a\"],[0.8888888888888888,\"#fdca26\"],[1.0,\"#f0f921\"]],\"type\":\"histogram2d\"}],\"histogram2dcontour\":[{\"colorbar\":{\"outlinewidth\":0,\"ticks\":\"\"},\"colorscale\":[[0.0,\"#0d0887\"],[0.1111111111111111,\"#46039f\"],[0.2222222222222222,\"#7201a8\"],[0.3333333333333333,\"#9c179e\"],[0.4444444444444444,\"#bd3786\"],[0.5555555555555556,\"#d8576b\"],[0.6666666666666666,\"#ed7953\"],[0.7777777777777778,\"#fb9f3a\"],[0.8888888888888888,\"#fdca26\"],[1.0,\"#f0f921\"]],\"type\":\"histogram2dcontour\"}],\"mesh3d\":[{\"colorbar\":{\"outlinewidth\":0,\"ticks\":\"\"},\"type\":\"mesh3d\"}],\"parcoords\":[{\"line\":{\"colorbar\":{\"outlinewidth\":0,\"ticks\":\"\"}},\"type\":\"parcoords\"}],\"pie\":[{\"automargin\":true,\"type\":\"pie\"}],\"scatter\":[{\"marker\":{\"colorbar\":{\"outlinewidth\":0,\"ticks\":\"\"}},\"type\":\"scatter\"}],\"scatter3d\":[{\"line\":{\"colorbar\":{\"outlinewidth\":0,\"ticks\":\"\"}},\"marker\":{\"colorbar\":{\"outlinewidth\":0,\"ticks\":\"\"}},\"type\":\"scatter3d\"}],\"scattercarpet\":[{\"marker\":{\"colorbar\":{\"outlinewidth\":0,\"ticks\":\"\"}},\"type\":\"scattercarpet\"}],\"scattergeo\":[{\"marker\":{\"colorbar\":{\"outlinewidth\":0,\"ticks\":\"\"}},\"type\":\"scattergeo\"}],\"scattergl\":[{\"marker\":{\"colorbar\":{\"outlinewidth\":0,\"ticks\":\"\"}},\"type\":\"scattergl\"}],\"scattermapbox\":[{\"marker\":{\"colorbar\":{\"outlinewidth\":0,\"ticks\":\"\"}},\"type\":\"scattermapbox\"}],\"scatterpolar\":[{\"marker\":{\"colorbar\":{\"outlinewidth\":0,\"ticks\":\"\"}},\"type\":\"scatterpolar\"}],\"scatterpolargl\":[{\"marker\":{\"colorbar\":{\"outlinewidth\":0,\"ticks\":\"\"}},\"type\":\"scatterpolargl\"}],\"scatterternary\":[{\"marker\":{\"colorbar\":{\"outlinewidth\":0,\"ticks\":\"\"}},\"type\":\"scatterternary\"}],\"surface\":[{\"colorbar\":{\"outlinewidth\":0,\"ticks\":\"\"},\"colorscale\":[[0.0,\"#0d0887\"],[0.1111111111111111,\"#46039f\"],[0.2222222222222222,\"#7201a8\"],[0.3333333333333333,\"#9c179e\"],[0.4444444444444444,\"#bd3786\"],[0.5555555555555556,\"#d8576b\"],[0.6666666666666666,\"#ed7953\"],[0.7777777777777778,\"#fb9f3a\"],[0.8888888888888888,\"#fdca26\"],[1.0,\"#f0f921\"]],\"type\":\"surface\"}],\"table\":[{\"cells\":{\"fill\":{\"color\":\"#EBF0F8\"},\"line\":{\"color\":\"white\"}},\"header\":{\"fill\":{\"color\":\"#C8D4E3\"},\"line\":{\"color\":\"white\"}},\"type\":\"table\"}]},\"layout\":{\"annotationdefaults\":{\"arrowcolor\":\"#2a3f5f\",\"arrowhead\":0,\"arrowwidth\":1},\"autotypenumbers\":\"strict\",\"coloraxis\":{\"colorbar\":{\"outlinewidth\":0,\"ticks\":\"\"}},\"colorscale\":{\"diverging\":[[0,\"#8e0152\"],[0.1,\"#c51b7d\"],[0.2,\"#de77ae\"],[0.3,\"#f1b6da\"],[0.4,\"#fde0ef\"],[0.5,\"#f7f7f7\"],[0.6,\"#e6f5d0\"],[0.7,\"#b8e186\"],[0.8,\"#7fbc41\"],[0.9,\"#4d9221\"],[1,\"#276419\"]],\"sequential\":[[0.0,\"#0d0887\"],[0.1111111111111111,\"#46039f\"],[0.2222222222222222,\"#7201a8\"],[0.3333333333333333,\"#9c179e\"],[0.4444444444444444,\"#bd3786\"],[0.5555555555555556,\"#d8576b\"],[0.6666666666666666,\"#ed7953\"],[0.7777777777777778,\"#fb9f3a\"],[0.8888888888888888,\"#fdca26\"],[1.0,\"#f0f921\"]],\"sequentialminus\":[[0.0,\"#0d0887\"],[0.1111111111111111,\"#46039f\"],[0.2222222222222222,\"#7201a8\"],[0.3333333333333333,\"#9c179e\"],[0.4444444444444444,\"#bd3786\"],[0.5555555555555556,\"#d8576b\"],[0.6666666666666666,\"#ed7953\"],[0.7777777777777778,\"#fb9f3a\"],[0.8888888888888888,\"#fdca26\"],[1.0,\"#f0f921\"]]},\"colorway\":[\"#636efa\",\"#EF553B\",\"#00cc96\",\"#ab63fa\",\"#FFA15A\",\"#19d3f3\",\"#FF6692\",\"#B6E880\",\"#FF97FF\",\"#FECB52\"],\"font\":{\"color\":\"#2a3f5f\"},\"geo\":{\"bgcolor\":\"white\",\"lakecolor\":\"white\",\"landcolor\":\"#E5ECF6\",\"showlakes\":true,\"showland\":true,\"subunitcolor\":\"white\"},\"hoverlabel\":{\"align\":\"left\"},\"hovermode\":\"closest\",\"mapbox\":{\"style\":\"light\"},\"paper_bgcolor\":\"white\",\"plot_bgcolor\":\"#E5ECF6\",\"polar\":{\"angularaxis\":{\"gridcolor\":\"white\",\"linecolor\":\"white\",\"ticks\":\"\"},\"bgcolor\":\"#E5ECF6\",\"radialaxis\":{\"gridcolor\":\"white\",\"linecolor\":\"white\",\"ticks\":\"\"}},\"scene\":{\"xaxis\":{\"backgroundcolor\":\"#E5ECF6\",\"gridcolor\":\"white\",\"gridwidth\":2,\"linecolor\":\"white\",\"showbackground\":true,\"ticks\":\"\",\"zerolinecolor\":\"white\"},\"yaxis\":{\"backgroundcolor\":\"#E5ECF6\",\"gridcolor\":\"white\",\"gridwidth\":2,\"linecolor\":\"white\",\"showbackground\":true,\"ticks\":\"\",\"zerolinecolor\":\"white\"},\"zaxis\":{\"backgroundcolor\":\"#E5ECF6\",\"gridcolor\":\"white\",\"gridwidth\":2,\"linecolor\":\"white\",\"showbackground\":true,\"ticks\":\"\",\"zerolinecolor\":\"white\"}},\"shapedefaults\":{\"line\":{\"color\":\"#2a3f5f\"}},\"ternary\":{\"aaxis\":{\"gridcolor\":\"white\",\"linecolor\":\"white\",\"ticks\":\"\"},\"baxis\":{\"gridcolor\":\"white\",\"linecolor\":\"white\",\"ticks\":\"\"},\"bgcolor\":\"#E5ECF6\",\"caxis\":{\"gridcolor\":\"white\",\"linecolor\":\"white\",\"ticks\":\"\"}},\"title\":{\"x\":0.05},\"xaxis\":{\"automargin\":true,\"gridcolor\":\"white\",\"linecolor\":\"white\",\"ticks\":\"\",\"title\":{\"standoff\":15},\"zerolinecolor\":\"white\",\"zerolinewidth\":2},\"yaxis\":{\"automargin\":true,\"gridcolor\":\"white\",\"linecolor\":\"white\",\"ticks\":\"\",\"title\":{\"standoff\":15},\"zerolinecolor\":\"white\",\"zerolinewidth\":2}}},\"xaxis\":{\"anchor\":\"y\",\"domain\":[0.0,1.0],\"title\":{\"text\":\"Total Extras\",\"font\":{\"size\":14}}},\"yaxis\":{\"anchor\":\"x\",\"domain\":[0.0,1.0],\"title\":{\"text\":\"Bowling Team\",\"font\":{\"size\":14}}},\"coloraxis\":{\"colorbar\":{\"title\":{\"text\":\"Total Extras\"}},\"colorscale\":[[0.0,\"rgb(247,251,255)\"],[0.125,\"rgb(222,235,247)\"],[0.25,\"rgb(198,219,239)\"],[0.375,\"rgb(158,202,225)\"],[0.5,\"rgb(107,174,214)\"],[0.625,\"rgb(66,146,198)\"],[0.75,\"rgb(33,113,181)\"],[0.875,\"rgb(8,81,156)\"],[1.0,\"rgb(8,48,107)\"]]},\"legend\":{\"tracegroupgap\":0},\"title\":{\"text\":\"Total Extras by Bowling Team\",\"font\":{\"size\":16}},\"barmode\":\"relative\",\"height\":600,\"showlegend\":false},                        {\"responsive\": true}                    )                };                            </script>        </div>\n",
       "</body>\n",
       "</html>"
      ]
     },
     "metadata": {
      "application/vnd.databricks.v1+output": {
       "addedWidgets": {},
       "arguments": {},
       "data": "<html>\n<head><meta charset=\"utf-8\" /></head>\n<body>\n    <div>            <script src=\"https://cdnjs.cloudflare.com/ajax/libs/mathjax/2.7.5/MathJax.js?config=TeX-AMS-MML_SVG\"></script><script type=\"text/javascript\">if (window.MathJax) {MathJax.Hub.Config({SVG: {font: \"STIX-Web\"}});}</script>                <script type=\"text/javascript\">window.PlotlyConfig = {MathJaxConfig: 'local'};</script>\n        <script src=\"https://cdn.plot.ly/plotly-2.9.0.min.js\"></script>                <div id=\"77cd45ff-b32b-4ee0-84c7-1f2385c757c6\" class=\"plotly-graph-div\" style=\"height:600px; width:100%;\"></div>            <script type=\"text/javascript\">                                    window.PLOTLYENV=window.PLOTLYENV || {};                                    if (document.getElementById(\"77cd45ff-b32b-4ee0-84c7-1f2385c757c6\")) {                    Plotly.newPlot(                        \"77cd45ff-b32b-4ee0-84c7-1f2385c757c6\",                        [{\"alignmentgroup\":\"True\",\"hovertemplate\":\"Total Extras=%{marker.color}<br>Bowling Team=%{y}<extra></extra>\",\"legendgroup\":\"\",\"marker\":{\"color\":[53,67,76,83,95,99,99,101,108,133],\"coloraxis\":\"coloraxis\",\"pattern\":{\"shape\":\"\"}},\"name\":\"\",\"offsetgroup\":\"\",\"orientation\":\"h\",\"showlegend\":false,\"textposition\":\"outside\",\"x\":[53,67,76,83,95,99,99,101,108,133],\"xaxis\":\"x\",\"y\":[\"RCB\",\"KKR\",\"LSG\",\"SRH\",\"DC\",\"GT\",\"PBKS\",\"CSK\",\"MI\",\"RR\"],\"yaxis\":\"y\",\"type\":\"bar\",\"texttemplate\":\"%{x}\"}],                        {\"template\":{\"data\":{\"bar\":[{\"error_x\":{\"color\":\"#2a3f5f\"},\"error_y\":{\"color\":\"#2a3f5f\"},\"marker\":{\"line\":{\"color\":\"#E5ECF6\",\"width\":0.5},\"pattern\":{\"fillmode\":\"overlay\",\"size\":10,\"solidity\":0.2}},\"type\":\"bar\"}],\"barpolar\":[{\"marker\":{\"line\":{\"color\":\"#E5ECF6\",\"width\":0.5},\"pattern\":{\"fillmode\":\"overlay\",\"size\":10,\"solidity\":0.2}},\"type\":\"barpolar\"}],\"carpet\":[{\"aaxis\":{\"endlinecolor\":\"#2a3f5f\",\"gridcolor\":\"white\",\"linecolor\":\"white\",\"minorgridcolor\":\"white\",\"startlinecolor\":\"#2a3f5f\"},\"baxis\":{\"endlinecolor\":\"#2a3f5f\",\"gridcolor\":\"white\",\"linecolor\":\"white\",\"minorgridcolor\":\"white\",\"startlinecolor\":\"#2a3f5f\"},\"type\":\"carpet\"}],\"choropleth\":[{\"colorbar\":{\"outlinewidth\":0,\"ticks\":\"\"},\"type\":\"choropleth\"}],\"contour\":[{\"colorbar\":{\"outlinewidth\":0,\"ticks\":\"\"},\"colorscale\":[[0.0,\"#0d0887\"],[0.1111111111111111,\"#46039f\"],[0.2222222222222222,\"#7201a8\"],[0.3333333333333333,\"#9c179e\"],[0.4444444444444444,\"#bd3786\"],[0.5555555555555556,\"#d8576b\"],[0.6666666666666666,\"#ed7953\"],[0.7777777777777778,\"#fb9f3a\"],[0.8888888888888888,\"#fdca26\"],[1.0,\"#f0f921\"]],\"type\":\"contour\"}],\"contourcarpet\":[{\"colorbar\":{\"outlinewidth\":0,\"ticks\":\"\"},\"type\":\"contourcarpet\"}],\"heatmap\":[{\"colorbar\":{\"outlinewidth\":0,\"ticks\":\"\"},\"colorscale\":[[0.0,\"#0d0887\"],[0.1111111111111111,\"#46039f\"],[0.2222222222222222,\"#7201a8\"],[0.3333333333333333,\"#9c179e\"],[0.4444444444444444,\"#bd3786\"],[0.5555555555555556,\"#d8576b\"],[0.6666666666666666,\"#ed7953\"],[0.7777777777777778,\"#fb9f3a\"],[0.8888888888888888,\"#fdca26\"],[1.0,\"#f0f921\"]],\"type\":\"heatmap\"}],\"heatmapgl\":[{\"colorbar\":{\"outlinewidth\":0,\"ticks\":\"\"},\"colorscale\":[[0.0,\"#0d0887\"],[0.1111111111111111,\"#46039f\"],[0.2222222222222222,\"#7201a8\"],[0.3333333333333333,\"#9c179e\"],[0.4444444444444444,\"#bd3786\"],[0.5555555555555556,\"#d8576b\"],[0.6666666666666666,\"#ed7953\"],[0.7777777777777778,\"#fb9f3a\"],[0.8888888888888888,\"#fdca26\"],[1.0,\"#f0f921\"]],\"type\":\"heatmapgl\"}],\"histogram\":[{\"marker\":{\"pattern\":{\"fillmode\":\"overlay\",\"size\":10,\"solidity\":0.2}},\"type\":\"histogram\"}],\"histogram2d\":[{\"colorbar\":{\"outlinewidth\":0,\"ticks\":\"\"},\"colorscale\":[[0.0,\"#0d0887\"],[0.1111111111111111,\"#46039f\"],[0.2222222222222222,\"#7201a8\"],[0.3333333333333333,\"#9c179e\"],[0.4444444444444444,\"#bd3786\"],[0.5555555555555556,\"#d8576b\"],[0.6666666666666666,\"#ed7953\"],[0.7777777777777778,\"#fb9f3a\"],[0.8888888888888888,\"#fdca26\"],[1.0,\"#f0f921\"]],\"type\":\"histogram2d\"}],\"histogram2dcontour\":[{\"colorbar\":{\"outlinewidth\":0,\"ticks\":\"\"},\"colorscale\":[[0.0,\"#0d0887\"],[0.1111111111111111,\"#46039f\"],[0.2222222222222222,\"#7201a8\"],[0.3333333333333333,\"#9c179e\"],[0.4444444444444444,\"#bd3786\"],[0.5555555555555556,\"#d8576b\"],[0.6666666666666666,\"#ed7953\"],[0.7777777777777778,\"#fb9f3a\"],[0.8888888888888888,\"#fdca26\"],[1.0,\"#f0f921\"]],\"type\":\"histogram2dcontour\"}],\"mesh3d\":[{\"colorbar\":{\"outlinewidth\":0,\"ticks\":\"\"},\"type\":\"mesh3d\"}],\"parcoords\":[{\"line\":{\"colorbar\":{\"outlinewidth\":0,\"ticks\":\"\"}},\"type\":\"parcoords\"}],\"pie\":[{\"automargin\":true,\"type\":\"pie\"}],\"scatter\":[{\"marker\":{\"colorbar\":{\"outlinewidth\":0,\"ticks\":\"\"}},\"type\":\"scatter\"}],\"scatter3d\":[{\"line\":{\"colorbar\":{\"outlinewidth\":0,\"ticks\":\"\"}},\"marker\":{\"colorbar\":{\"outlinewidth\":0,\"ticks\":\"\"}},\"type\":\"scatter3d\"}],\"scattercarpet\":[{\"marker\":{\"colorbar\":{\"outlinewidth\":0,\"ticks\":\"\"}},\"type\":\"scattercarpet\"}],\"scattergeo\":[{\"marker\":{\"colorbar\":{\"outlinewidth\":0,\"ticks\":\"\"}},\"type\":\"scattergeo\"}],\"scattergl\":[{\"marker\":{\"colorbar\":{\"outlinewidth\":0,\"ticks\":\"\"}},\"type\":\"scattergl\"}],\"scattermapbox\":[{\"marker\":{\"colorbar\":{\"outlinewidth\":0,\"ticks\":\"\"}},\"type\":\"scattermapbox\"}],\"scatterpolar\":[{\"marker\":{\"colorbar\":{\"outlinewidth\":0,\"ticks\":\"\"}},\"type\":\"scatterpolar\"}],\"scatterpolargl\":[{\"marker\":{\"colorbar\":{\"outlinewidth\":0,\"ticks\":\"\"}},\"type\":\"scatterpolargl\"}],\"scatterternary\":[{\"marker\":{\"colorbar\":{\"outlinewidth\":0,\"ticks\":\"\"}},\"type\":\"scatterternary\"}],\"surface\":[{\"colorbar\":{\"outlinewidth\":0,\"ticks\":\"\"},\"colorscale\":[[0.0,\"#0d0887\"],[0.1111111111111111,\"#46039f\"],[0.2222222222222222,\"#7201a8\"],[0.3333333333333333,\"#9c179e\"],[0.4444444444444444,\"#bd3786\"],[0.5555555555555556,\"#d8576b\"],[0.6666666666666666,\"#ed7953\"],[0.7777777777777778,\"#fb9f3a\"],[0.8888888888888888,\"#fdca26\"],[1.0,\"#f0f921\"]],\"type\":\"surface\"}],\"table\":[{\"cells\":{\"fill\":{\"color\":\"#EBF0F8\"},\"line\":{\"color\":\"white\"}},\"header\":{\"fill\":{\"color\":\"#C8D4E3\"},\"line\":{\"color\":\"white\"}},\"type\":\"table\"}]},\"layout\":{\"annotationdefaults\":{\"arrowcolor\":\"#2a3f5f\",\"arrowhead\":0,\"arrowwidth\":1},\"autotypenumbers\":\"strict\",\"coloraxis\":{\"colorbar\":{\"outlinewidth\":0,\"ticks\":\"\"}},\"colorscale\":{\"diverging\":[[0,\"#8e0152\"],[0.1,\"#c51b7d\"],[0.2,\"#de77ae\"],[0.3,\"#f1b6da\"],[0.4,\"#fde0ef\"],[0.5,\"#f7f7f7\"],[0.6,\"#e6f5d0\"],[0.7,\"#b8e186\"],[0.8,\"#7fbc41\"],[0.9,\"#4d9221\"],[1,\"#276419\"]],\"sequential\":[[0.0,\"#0d0887\"],[0.1111111111111111,\"#46039f\"],[0.2222222222222222,\"#7201a8\"],[0.3333333333333333,\"#9c179e\"],[0.4444444444444444,\"#bd3786\"],[0.5555555555555556,\"#d8576b\"],[0.6666666666666666,\"#ed7953\"],[0.7777777777777778,\"#fb9f3a\"],[0.8888888888888888,\"#fdca26\"],[1.0,\"#f0f921\"]],\"sequentialminus\":[[0.0,\"#0d0887\"],[0.1111111111111111,\"#46039f\"],[0.2222222222222222,\"#7201a8\"],[0.3333333333333333,\"#9c179e\"],[0.4444444444444444,\"#bd3786\"],[0.5555555555555556,\"#d8576b\"],[0.6666666666666666,\"#ed7953\"],[0.7777777777777778,\"#fb9f3a\"],[0.8888888888888888,\"#fdca26\"],[1.0,\"#f0f921\"]]},\"colorway\":[\"#636efa\",\"#EF553B\",\"#00cc96\",\"#ab63fa\",\"#FFA15A\",\"#19d3f3\",\"#FF6692\",\"#B6E880\",\"#FF97FF\",\"#FECB52\"],\"font\":{\"color\":\"#2a3f5f\"},\"geo\":{\"bgcolor\":\"white\",\"lakecolor\":\"white\",\"landcolor\":\"#E5ECF6\",\"showlakes\":true,\"showland\":true,\"subunitcolor\":\"white\"},\"hoverlabel\":{\"align\":\"left\"},\"hovermode\":\"closest\",\"mapbox\":{\"style\":\"light\"},\"paper_bgcolor\":\"white\",\"plot_bgcolor\":\"#E5ECF6\",\"polar\":{\"angularaxis\":{\"gridcolor\":\"white\",\"linecolor\":\"white\",\"ticks\":\"\"},\"bgcolor\":\"#E5ECF6\",\"radialaxis\":{\"gridcolor\":\"white\",\"linecolor\":\"white\",\"ticks\":\"\"}},\"scene\":{\"xaxis\":{\"backgroundcolor\":\"#E5ECF6\",\"gridcolor\":\"white\",\"gridwidth\":2,\"linecolor\":\"white\",\"showbackground\":true,\"ticks\":\"\",\"zerolinecolor\":\"white\"},\"yaxis\":{\"backgroundcolor\":\"#E5ECF6\",\"gridcolor\":\"white\",\"gridwidth\":2,\"linecolor\":\"white\",\"showbackground\":true,\"ticks\":\"\",\"zerolinecolor\":\"white\"},\"zaxis\":{\"backgroundcolor\":\"#E5ECF6\",\"gridcolor\":\"white\",\"gridwidth\":2,\"linecolor\":\"white\",\"showbackground\":true,\"ticks\":\"\",\"zerolinecolor\":\"white\"}},\"shapedefaults\":{\"line\":{\"color\":\"#2a3f5f\"}},\"ternary\":{\"aaxis\":{\"gridcolor\":\"white\",\"linecolor\":\"white\",\"ticks\":\"\"},\"baxis\":{\"gridcolor\":\"white\",\"linecolor\":\"white\",\"ticks\":\"\"},\"bgcolor\":\"#E5ECF6\",\"caxis\":{\"gridcolor\":\"white\",\"linecolor\":\"white\",\"ticks\":\"\"}},\"title\":{\"x\":0.05},\"xaxis\":{\"automargin\":true,\"gridcolor\":\"white\",\"linecolor\":\"white\",\"ticks\":\"\",\"title\":{\"standoff\":15},\"zerolinecolor\":\"white\",\"zerolinewidth\":2},\"yaxis\":{\"automargin\":true,\"gridcolor\":\"white\",\"linecolor\":\"white\",\"ticks\":\"\",\"title\":{\"standoff\":15},\"zerolinecolor\":\"white\",\"zerolinewidth\":2}}},\"xaxis\":{\"anchor\":\"y\",\"domain\":[0.0,1.0],\"title\":{\"text\":\"Total Extras\",\"font\":{\"size\":14}}},\"yaxis\":{\"anchor\":\"x\",\"domain\":[0.0,1.0],\"title\":{\"text\":\"Bowling Team\",\"font\":{\"size\":14}}},\"coloraxis\":{\"colorbar\":{\"title\":{\"text\":\"Total Extras\"}},\"colorscale\":[[0.0,\"rgb(247,251,255)\"],[0.125,\"rgb(222,235,247)\"],[0.25,\"rgb(198,219,239)\"],[0.375,\"rgb(158,202,225)\"],[0.5,\"rgb(107,174,214)\"],[0.625,\"rgb(66,146,198)\"],[0.75,\"rgb(33,113,181)\"],[0.875,\"rgb(8,81,156)\"],[1.0,\"rgb(8,48,107)\"]]},\"legend\":{\"tracegroupgap\":0},\"title\":{\"text\":\"Total Extras by Bowling Team\",\"font\":{\"size\":16}},\"barmode\":\"relative\",\"height\":600,\"showlegend\":false},                        {\"responsive\": true}                    )                };                            </script>        </div>\n</body>\n</html>",
       "datasetInfos": [],
       "metadata": {},
       "removedWidgets": [],
       "textData": null,
       "type": "htmlSandbox"
      }
     },
     "output_type": "display_data"
    }
   ],
   "source": [
    "pandas_df = extras_df.toPandas()\n",
    "\n",
    "import plotly.express as px\n",
    "import plotly.graph_objects as go\n",
    "\n",
    "# Create interactive bar chart\n",
    "fig = px.bar(pandas_df.sort_values('total_extras', ascending=True), \n",
    "             x='total_extras', \n",
    "             y='bowling_team',\n",
    "             orientation='h',\n",
    "             title='Total Extras by Bowling Team',\n",
    "             labels={'total_extras': 'Total Extras', 'bowling_team': 'Bowling Team'},\n",
    "             color='total_extras',\n",
    "             color_continuous_scale='Blues')\n",
    "\n",
    "# Customize layout\n",
    "fig.update_layout(\n",
    "    height=600,\n",
    "    showlegend=False,\n",
    "    title_font_size=16,\n",
    "    xaxis_title_font_size=14,\n",
    "    yaxis_title_font_size=14\n",
    ")\n",
    "\n",
    "# Add value annotations\n",
    "fig.update_traces(texttemplate='%{x}', textposition='outside')\n",
    "\n",
    "fig.show()"
   ]
  },
  {
   "cell_type": "markdown",
   "metadata": {
    "application/vnd.databricks.v1+cell": {
     "cellMetadata": {
      "byteLimit": 2048000,
      "rowLimit": 10000
     },
     "inputWidgets": {},
     "nuid": "0d4e8428-90a8-4d92-b93d-4ebc66eddc2f",
     "showTitle": false,
     "tableResultSettingsMap": {},
     "title": ""
    }
   },
   "source": [
    "### **Top 5 Most run scorer in 2025 with Orange Cap Holder**"
   ]
  },
  {
   "cell_type": "code",
   "execution_count": 0,
   "metadata": {
    "application/vnd.databricks.v1+cell": {
     "cellMetadata": {
      "byteLimit": 2048000,
      "rowLimit": 10000
     },
     "inputWidgets": {},
     "nuid": "49cac2ec-d386-46b5-ac20-9f9f0ba085af",
     "showTitle": false,
     "tableResultSettingsMap": {},
     "title": ""
    }
   },
   "outputs": [],
   "source": [
    "\n",
    "\n",
    "orange_cap_df = deliveries_df.groupBy(\"striker\") \\\n",
    "  .agg(sum(\"runs_of_bat\").alias(\"Runs\")) \\\n",
    "    .orderBy(col(\"Runs\").desc())"
   ]
  },
  {
   "cell_type": "markdown",
   "metadata": {
    "application/vnd.databricks.v1+cell": {
     "cellMetadata": {
      "byteLimit": 2048000,
      "rowLimit": 10000
     },
     "inputWidgets": {},
     "nuid": "71bd2f3e-cce6-4481-ad5b-a3c1a913c79c",
     "showTitle": false,
     "tableResultSettingsMap": {},
     "title": ""
    }
   },
   "source": [
    "### **Orange Cap holder - Sai Sudharsan**"
   ]
  },
  {
   "cell_type": "code",
   "execution_count": 0,
   "metadata": {
    "application/vnd.databricks.v1+cell": {
     "cellMetadata": {
      "byteLimit": 2048000,
      "rowLimit": 10000
     },
     "inputWidgets": {},
     "nuid": "0b97ebde-6fe6-40a2-be09-007a31c5575d",
     "showTitle": false,
     "tableResultSettingsMap": {},
     "title": ""
    }
   },
   "outputs": [
    {
     "output_type": "stream",
     "name": "stdout",
     "output_type": "stream",
     "text": [
      "+----------------+----+\n|         striker|Runs|\n+----------------+----+\n|   Sai Sudharsan| 617|\n|    Shubman Gill| 601|\n|         Jaiswal| 523|\n|Suryakumar Yadav| 510|\n|           Kohli| 505|\n+----------------+----+\nonly showing top 5 rows\n\n"
     ]
    }
   ],
   "source": [
    "orange_cap_df.show(5)"
   ]
  },
  {
   "cell_type": "markdown",
   "metadata": {
    "application/vnd.databricks.v1+cell": {
     "cellMetadata": {
      "byteLimit": 2048000,
      "rowLimit": 10000
     },
     "inputWidgets": {},
     "nuid": "019a27f3-4de9-4323-8184-df33a91eca88",
     "showTitle": false,
     "tableResultSettingsMap": {},
     "title": ""
    }
   },
   "source": [
    "### **Top Performing Batsman and Bowler per Team**"
   ]
  },
  {
   "cell_type": "code",
   "execution_count": 0,
   "metadata": {
    "application/vnd.databricks.v1+cell": {
     "cellMetadata": {
      "byteLimit": 2048000,
      "rowLimit": 10000
     },
     "inputWidgets": {},
     "nuid": "09bb45b2-f639-4c68-b2b1-c5d559d1c342",
     "showTitle": false,
     "tableResultSettingsMap": {},
     "title": ""
    }
   },
   "outputs": [],
   "source": [
    "\n",
    "team_runs = deliveries_df.groupBy(\"batting_team\", \"striker\") \\\n",
    "    .agg(sum(\"runs_of_bat\").alias(\"total_runs\"))\n",
    "\n",
    "window = Window.partitionBy(\"batting_team\").orderBy(col(\"total_runs\").desc())\n",
    "\n",
    "ranked = team_runs.withColumn(\"rn\", row_number().over(window))\n",
    "\n",
    "batsman_df = ranked.filter(col(\"rn\") == 1) \\\n",
    "    .select(\n",
    "        col(\"batting_team\").alias(\"team\"),\n",
    "        col(\"striker\").alias(\"top_batsman\"),\n",
    "        \"total_runs\") \\\n",
    "    .orderBy(col(\"total_runs\").desc())"
   ]
  },
  {
   "cell_type": "code",
   "execution_count": 0,
   "metadata": {
    "application/vnd.databricks.v1+cell": {
     "cellMetadata": {
      "byteLimit": 2048000,
      "rowLimit": 10000
     },
     "inputWidgets": {},
     "nuid": "85a9f053-34ce-436f-ba6b-69e466eac9c4",
     "showTitle": false,
     "tableResultSettingsMap": {},
     "title": ""
    }
   },
   "outputs": [],
   "source": [
    "valid_wicket = deliveries_df \\\n",
    "    .withColumn(\"is_valid_wicket\", \n",
    "            when (\n",
    "                (col(\"wicket_type\").isNotNull()) &\n",
    "                (~col(\"wicket_type\").isin(\"'run out', 'retired hurt', 'obstructing the field'\")),\n",
    "                1).otherwise(0)\n",
    "    )\n",
    "\n",
    "total_wicket = valid_wicket.groupBy(\"bowling_team\", \"bowler\") \\\n",
    "    .agg(sum(\"is_valid_wicket\").alias(\"total_wickets\"))\n",
    "\n",
    "window = Window.partitionBy(\"bowling_team\").orderBy(col(\"total_wickets\").desc())\n",
    "\n",
    "ranked = total_wicket.withColumn(\"rn\", row_number().over(window))\n",
    "\n",
    "bowler_df = ranked.filter(col(\"rn\") == 1) \\\n",
    "    .select(col(\"bowling_team\").alias(\"team\"), \n",
    "            col(\"bowler\").alias(\"top_bowler\"),\n",
    "            \"total_wickets\") \\\n",
    "    .orderBy(col(\"total_wickets\").desc())"
   ]
  },
  {
   "cell_type": "code",
   "execution_count": 0,
   "metadata": {
    "application/vnd.databricks.v1+cell": {
     "cellMetadata": {
      "byteLimit": 2048000,
      "rowLimit": 10000
     },
     "inputWidgets": {},
     "nuid": "cbcf75e9-88ef-455f-bab5-0876ddb80ceb",
     "showTitle": false,
     "tableResultSettingsMap": {},
     "title": ""
    }
   },
   "outputs": [
    {
     "output_type": "display_data",
     "data": {
      "text/html": [
       "<html>\n",
       "<head><meta charset=\"utf-8\" /></head>\n",
       "<body>\n",
       "    <div>            <script src=\"https://cdnjs.cloudflare.com/ajax/libs/mathjax/2.7.5/MathJax.js?config=TeX-AMS-MML_SVG\"></script><script type=\"text/javascript\">if (window.MathJax) {MathJax.Hub.Config({SVG: {font: \"STIX-Web\"}});}</script>                <script type=\"text/javascript\">window.PlotlyConfig = {MathJaxConfig: 'local'};</script>\n",
       "        <script src=\"https://cdn.plot.ly/plotly-2.9.0.min.js\"></script>                <div id=\"e299e331-93d5-4397-8f98-ce82f9dba465\" class=\"plotly-graph-div\" style=\"height:600px; width:100%;\"></div>            <script type=\"text/javascript\">                                    window.PLOTLYENV=window.PLOTLYENV || {};                                    if (document.getElementById(\"e299e331-93d5-4397-8f98-ce82f9dba465\")) {                    Plotly.newPlot(                        \"e299e331-93d5-4397-8f98-ce82f9dba465\",                        [{\"hovertemplate\":\"<b>%{y}</b><br>Player: %{text}<br>Runs: %{x}<extra></extra>\",\"marker\":{\"color\":\"lightcoral\"},\"name\":\"Runs\",\"orientation\":\"h\",\"text\":[\"Sai Sudharsan<br>617\",\"Jaiswal<br>523\",\"Suryakumar Yadav<br>510\",\"Kohli<br>505\",\"Rahul<br>493\",\"Prabhsimran<br>458\",\"Pooran<br>410\",\"Rahane<br>375\",\"Abhishek Sharma<br>314\",\"Shivam Dube<br>301\"],\"textposition\":\"outside\",\"x\":[617,523,510,505,493,458,410,375,314,301],\"y\":[\"GT\",\"RR\",\"MI\",\"RCB\",\"DC\",\"PBKS\",\"LSG\",\"KKR\",\"SRH\",\"CSK\"],\"type\":\"bar\",\"xaxis\":\"x\",\"yaxis\":\"y\"},{\"hovertemplate\":\"<b>%{y}</b><br>Player: %{text}<br>Wickets: %{x}<extra></extra>\",\"marker\":{\"color\":\"lightblue\"},\"name\":\"Wickets\",\"orientation\":\"h\",\"text\":[\"Prasidh<br>22\",\"Noor Ahmad<br>20\",\"Vaibhav Arora<br>18\",\"Boult<br>18\",\"Hazlewood<br>18\",\"Mitchell Starc<br>17\",\"Arshdeep Singh<br>17\",\"Harshal Patel<br>15\",\"Thakur<br>13\",\"Jofra Archer<br>12\"],\"textposition\":\"outside\",\"x\":[22,20,18,18,18,17,17,15,13,12],\"y\":[\"GT\",\"CSK\",\"KKR\",\"MI\",\"RCB\",\"DC\",\"PBKS\",\"SRH\",\"LSG\",\"RR\"],\"type\":\"bar\",\"xaxis\":\"x2\",\"yaxis\":\"y2\"}],                        {\"template\":{\"data\":{\"bar\":[{\"error_x\":{\"color\":\"#2a3f5f\"},\"error_y\":{\"color\":\"#2a3f5f\"},\"marker\":{\"line\":{\"color\":\"#E5ECF6\",\"width\":0.5},\"pattern\":{\"fillmode\":\"overlay\",\"size\":10,\"solidity\":0.2}},\"type\":\"bar\"}],\"barpolar\":[{\"marker\":{\"line\":{\"color\":\"#E5ECF6\",\"width\":0.5},\"pattern\":{\"fillmode\":\"overlay\",\"size\":10,\"solidity\":0.2}},\"type\":\"barpolar\"}],\"carpet\":[{\"aaxis\":{\"endlinecolor\":\"#2a3f5f\",\"gridcolor\":\"white\",\"linecolor\":\"white\",\"minorgridcolor\":\"white\",\"startlinecolor\":\"#2a3f5f\"},\"baxis\":{\"endlinecolor\":\"#2a3f5f\",\"gridcolor\":\"white\",\"linecolor\":\"white\",\"minorgridcolor\":\"white\",\"startlinecolor\":\"#2a3f5f\"},\"type\":\"carpet\"}],\"choropleth\":[{\"colorbar\":{\"outlinewidth\":0,\"ticks\":\"\"},\"type\":\"choropleth\"}],\"contour\":[{\"colorbar\":{\"outlinewidth\":0,\"ticks\":\"\"},\"colorscale\":[[0.0,\"#0d0887\"],[0.1111111111111111,\"#46039f\"],[0.2222222222222222,\"#7201a8\"],[0.3333333333333333,\"#9c179e\"],[0.4444444444444444,\"#bd3786\"],[0.5555555555555556,\"#d8576b\"],[0.6666666666666666,\"#ed7953\"],[0.7777777777777778,\"#fb9f3a\"],[0.8888888888888888,\"#fdca26\"],[1.0,\"#f0f921\"]],\"type\":\"contour\"}],\"contourcarpet\":[{\"colorbar\":{\"outlinewidth\":0,\"ticks\":\"\"},\"type\":\"contourcarpet\"}],\"heatmap\":[{\"colorbar\":{\"outlinewidth\":0,\"ticks\":\"\"},\"colorscale\":[[0.0,\"#0d0887\"],[0.1111111111111111,\"#46039f\"],[0.2222222222222222,\"#7201a8\"],[0.3333333333333333,\"#9c179e\"],[0.4444444444444444,\"#bd3786\"],[0.5555555555555556,\"#d8576b\"],[0.6666666666666666,\"#ed7953\"],[0.7777777777777778,\"#fb9f3a\"],[0.8888888888888888,\"#fdca26\"],[1.0,\"#f0f921\"]],\"type\":\"heatmap\"}],\"heatmapgl\":[{\"colorbar\":{\"outlinewidth\":0,\"ticks\":\"\"},\"colorscale\":[[0.0,\"#0d0887\"],[0.1111111111111111,\"#46039f\"],[0.2222222222222222,\"#7201a8\"],[0.3333333333333333,\"#9c179e\"],[0.4444444444444444,\"#bd3786\"],[0.5555555555555556,\"#d8576b\"],[0.6666666666666666,\"#ed7953\"],[0.7777777777777778,\"#fb9f3a\"],[0.8888888888888888,\"#fdca26\"],[1.0,\"#f0f921\"]],\"type\":\"heatmapgl\"}],\"histogram\":[{\"marker\":{\"pattern\":{\"fillmode\":\"overlay\",\"size\":10,\"solidity\":0.2}},\"type\":\"histogram\"}],\"histogram2d\":[{\"colorbar\":{\"outlinewidth\":0,\"ticks\":\"\"},\"colorscale\":[[0.0,\"#0d0887\"],[0.1111111111111111,\"#46039f\"],[0.2222222222222222,\"#7201a8\"],[0.3333333333333333,\"#9c179e\"],[0.4444444444444444,\"#bd3786\"],[0.5555555555555556,\"#d8576b\"],[0.6666666666666666,\"#ed7953\"],[0.7777777777777778,\"#fb9f3a\"],[0.8888888888888888,\"#fdca26\"],[1.0,\"#f0f921\"]],\"type\":\"histogram2d\"}],\"histogram2dcontour\":[{\"colorbar\":{\"outlinewidth\":0,\"ticks\":\"\"},\"colorscale\":[[0.0,\"#0d0887\"],[0.1111111111111111,\"#46039f\"],[0.2222222222222222,\"#7201a8\"],[0.3333333333333333,\"#9c179e\"],[0.4444444444444444,\"#bd3786\"],[0.5555555555555556,\"#d8576b\"],[0.6666666666666666,\"#ed7953\"],[0.7777777777777778,\"#fb9f3a\"],[0.8888888888888888,\"#fdca26\"],[1.0,\"#f0f921\"]],\"type\":\"histogram2dcontour\"}],\"mesh3d\":[{\"colorbar\":{\"outlinewidth\":0,\"ticks\":\"\"},\"type\":\"mesh3d\"}],\"parcoords\":[{\"line\":{\"colorbar\":{\"outlinewidth\":0,\"ticks\":\"\"}},\"type\":\"parcoords\"}],\"pie\":[{\"automargin\":true,\"type\":\"pie\"}],\"scatter\":[{\"marker\":{\"colorbar\":{\"outlinewidth\":0,\"ticks\":\"\"}},\"type\":\"scatter\"}],\"scatter3d\":[{\"line\":{\"colorbar\":{\"outlinewidth\":0,\"ticks\":\"\"}},\"marker\":{\"colorbar\":{\"outlinewidth\":0,\"ticks\":\"\"}},\"type\":\"scatter3d\"}],\"scattercarpet\":[{\"marker\":{\"colorbar\":{\"outlinewidth\":0,\"ticks\":\"\"}},\"type\":\"scattercarpet\"}],\"scattergeo\":[{\"marker\":{\"colorbar\":{\"outlinewidth\":0,\"ticks\":\"\"}},\"type\":\"scattergeo\"}],\"scattergl\":[{\"marker\":{\"colorbar\":{\"outlinewidth\":0,\"ticks\":\"\"}},\"type\":\"scattergl\"}],\"scattermapbox\":[{\"marker\":{\"colorbar\":{\"outlinewidth\":0,\"ticks\":\"\"}},\"type\":\"scattermapbox\"}],\"scatterpolar\":[{\"marker\":{\"colorbar\":{\"outlinewidth\":0,\"ticks\":\"\"}},\"type\":\"scatterpolar\"}],\"scatterpolargl\":[{\"marker\":{\"colorbar\":{\"outlinewidth\":0,\"ticks\":\"\"}},\"type\":\"scatterpolargl\"}],\"scatterternary\":[{\"marker\":{\"colorbar\":{\"outlinewidth\":0,\"ticks\":\"\"}},\"type\":\"scatterternary\"}],\"surface\":[{\"colorbar\":{\"outlinewidth\":0,\"ticks\":\"\"},\"colorscale\":[[0.0,\"#0d0887\"],[0.1111111111111111,\"#46039f\"],[0.2222222222222222,\"#7201a8\"],[0.3333333333333333,\"#9c179e\"],[0.4444444444444444,\"#bd3786\"],[0.5555555555555556,\"#d8576b\"],[0.6666666666666666,\"#ed7953\"],[0.7777777777777778,\"#fb9f3a\"],[0.8888888888888888,\"#fdca26\"],[1.0,\"#f0f921\"]],\"type\":\"surface\"}],\"table\":[{\"cells\":{\"fill\":{\"color\":\"#EBF0F8\"},\"line\":{\"color\":\"white\"}},\"header\":{\"fill\":{\"color\":\"#C8D4E3\"},\"line\":{\"color\":\"white\"}},\"type\":\"table\"}]},\"layout\":{\"annotationdefaults\":{\"arrowcolor\":\"#2a3f5f\",\"arrowhead\":0,\"arrowwidth\":1},\"autotypenumbers\":\"strict\",\"coloraxis\":{\"colorbar\":{\"outlinewidth\":0,\"ticks\":\"\"}},\"colorscale\":{\"diverging\":[[0,\"#8e0152\"],[0.1,\"#c51b7d\"],[0.2,\"#de77ae\"],[0.3,\"#f1b6da\"],[0.4,\"#fde0ef\"],[0.5,\"#f7f7f7\"],[0.6,\"#e6f5d0\"],[0.7,\"#b8e186\"],[0.8,\"#7fbc41\"],[0.9,\"#4d9221\"],[1,\"#276419\"]],\"sequential\":[[0.0,\"#0d0887\"],[0.1111111111111111,\"#46039f\"],[0.2222222222222222,\"#7201a8\"],[0.3333333333333333,\"#9c179e\"],[0.4444444444444444,\"#bd3786\"],[0.5555555555555556,\"#d8576b\"],[0.6666666666666666,\"#ed7953\"],[0.7777777777777778,\"#fb9f3a\"],[0.8888888888888888,\"#fdca26\"],[1.0,\"#f0f921\"]],\"sequentialminus\":[[0.0,\"#0d0887\"],[0.1111111111111111,\"#46039f\"],[0.2222222222222222,\"#7201a8\"],[0.3333333333333333,\"#9c179e\"],[0.4444444444444444,\"#bd3786\"],[0.5555555555555556,\"#d8576b\"],[0.6666666666666666,\"#ed7953\"],[0.7777777777777778,\"#fb9f3a\"],[0.8888888888888888,\"#fdca26\"],[1.0,\"#f0f921\"]]},\"colorway\":[\"#636efa\",\"#EF553B\",\"#00cc96\",\"#ab63fa\",\"#FFA15A\",\"#19d3f3\",\"#FF6692\",\"#B6E880\",\"#FF97FF\",\"#FECB52\"],\"font\":{\"color\":\"#2a3f5f\"},\"geo\":{\"bgcolor\":\"white\",\"lakecolor\":\"white\",\"landcolor\":\"#E5ECF6\",\"showlakes\":true,\"showland\":true,\"subunitcolor\":\"white\"},\"hoverlabel\":{\"align\":\"left\"},\"hovermode\":\"closest\",\"mapbox\":{\"style\":\"light\"},\"paper_bgcolor\":\"white\",\"plot_bgcolor\":\"#E5ECF6\",\"polar\":{\"angularaxis\":{\"gridcolor\":\"white\",\"linecolor\":\"white\",\"ticks\":\"\"},\"bgcolor\":\"#E5ECF6\",\"radialaxis\":{\"gridcolor\":\"white\",\"linecolor\":\"white\",\"ticks\":\"\"}},\"scene\":{\"xaxis\":{\"backgroundcolor\":\"#E5ECF6\",\"gridcolor\":\"white\",\"gridwidth\":2,\"linecolor\":\"white\",\"showbackground\":true,\"ticks\":\"\",\"zerolinecolor\":\"white\"},\"yaxis\":{\"backgroundcolor\":\"#E5ECF6\",\"gridcolor\":\"white\",\"gridwidth\":2,\"linecolor\":\"white\",\"showbackground\":true,\"ticks\":\"\",\"zerolinecolor\":\"white\"},\"zaxis\":{\"backgroundcolor\":\"#E5ECF6\",\"gridcolor\":\"white\",\"gridwidth\":2,\"linecolor\":\"white\",\"showbackground\":true,\"ticks\":\"\",\"zerolinecolor\":\"white\"}},\"shapedefaults\":{\"line\":{\"color\":\"#2a3f5f\"}},\"ternary\":{\"aaxis\":{\"gridcolor\":\"white\",\"linecolor\":\"white\",\"ticks\":\"\"},\"baxis\":{\"gridcolor\":\"white\",\"linecolor\":\"white\",\"ticks\":\"\"},\"bgcolor\":\"#E5ECF6\",\"caxis\":{\"gridcolor\":\"white\",\"linecolor\":\"white\",\"ticks\":\"\"}},\"title\":{\"x\":0.05},\"xaxis\":{\"automargin\":true,\"gridcolor\":\"white\",\"linecolor\":\"white\",\"ticks\":\"\",\"title\":{\"standoff\":15},\"zerolinecolor\":\"white\",\"zerolinewidth\":2},\"yaxis\":{\"automargin\":true,\"gridcolor\":\"white\",\"linecolor\":\"white\",\"ticks\":\"\",\"title\":{\"standoff\":15},\"zerolinecolor\":\"white\",\"zerolinewidth\":2}}},\"xaxis\":{\"anchor\":\"y\",\"domain\":[0.0,0.45],\"title\":{\"text\":\"Total Runs\"}},\"yaxis\":{\"anchor\":\"x\",\"domain\":[0.0,1.0],\"title\":{\"text\":\"Team\"}},\"xaxis2\":{\"anchor\":\"y2\",\"domain\":[0.55,1.0],\"title\":{\"text\":\"Total Wickets\"}},\"yaxis2\":{\"anchor\":\"x2\",\"domain\":[0.0,1.0],\"title\":{\"text\":\"Team\"}},\"annotations\":[{\"font\":{\"size\":16},\"showarrow\":false,\"text\":\"Top Run Scorer by Team\",\"x\":0.225,\"xanchor\":\"center\",\"xref\":\"paper\",\"y\":1.0,\"yanchor\":\"bottom\",\"yref\":\"paper\"},{\"font\":{\"size\":16},\"showarrow\":false,\"text\":\"Top Wicket Taker by Team\",\"x\":0.775,\"xanchor\":\"center\",\"xref\":\"paper\",\"y\":1.0,\"yanchor\":\"bottom\",\"yref\":\"paper\"}],\"title\":{\"font\":{\"size\":16},\"text\":\"Top Performers by Team\"},\"height\":600,\"showlegend\":false},                        {\"responsive\": true}                    )                };                            </script>        </div>\n",
       "</body>\n",
       "</html>"
      ]
     },
     "metadata": {
      "application/vnd.databricks.v1+output": {
       "addedWidgets": {},
       "arguments": {},
       "data": "<html>\n<head><meta charset=\"utf-8\" /></head>\n<body>\n    <div>            <script src=\"https://cdnjs.cloudflare.com/ajax/libs/mathjax/2.7.5/MathJax.js?config=TeX-AMS-MML_SVG\"></script><script type=\"text/javascript\">if (window.MathJax) {MathJax.Hub.Config({SVG: {font: \"STIX-Web\"}});}</script>                <script type=\"text/javascript\">window.PlotlyConfig = {MathJaxConfig: 'local'};</script>\n        <script src=\"https://cdn.plot.ly/plotly-2.9.0.min.js\"></script>                <div id=\"e299e331-93d5-4397-8f98-ce82f9dba465\" class=\"plotly-graph-div\" style=\"height:600px; width:100%;\"></div>            <script type=\"text/javascript\">                                    window.PLOTLYENV=window.PLOTLYENV || {};                                    if (document.getElementById(\"e299e331-93d5-4397-8f98-ce82f9dba465\")) {                    Plotly.newPlot(                        \"e299e331-93d5-4397-8f98-ce82f9dba465\",                        [{\"hovertemplate\":\"<b>%{y}</b><br>Player: %{text}<br>Runs: %{x}<extra></extra>\",\"marker\":{\"color\":\"lightcoral\"},\"name\":\"Runs\",\"orientation\":\"h\",\"text\":[\"Sai Sudharsan<br>617\",\"Jaiswal<br>523\",\"Suryakumar Yadav<br>510\",\"Kohli<br>505\",\"Rahul<br>493\",\"Prabhsimran<br>458\",\"Pooran<br>410\",\"Rahane<br>375\",\"Abhishek Sharma<br>314\",\"Shivam Dube<br>301\"],\"textposition\":\"outside\",\"x\":[617,523,510,505,493,458,410,375,314,301],\"y\":[\"GT\",\"RR\",\"MI\",\"RCB\",\"DC\",\"PBKS\",\"LSG\",\"KKR\",\"SRH\",\"CSK\"],\"type\":\"bar\",\"xaxis\":\"x\",\"yaxis\":\"y\"},{\"hovertemplate\":\"<b>%{y}</b><br>Player: %{text}<br>Wickets: %{x}<extra></extra>\",\"marker\":{\"color\":\"lightblue\"},\"name\":\"Wickets\",\"orientation\":\"h\",\"text\":[\"Prasidh<br>22\",\"Noor Ahmad<br>20\",\"Vaibhav Arora<br>18\",\"Boult<br>18\",\"Hazlewood<br>18\",\"Mitchell Starc<br>17\",\"Arshdeep Singh<br>17\",\"Harshal Patel<br>15\",\"Thakur<br>13\",\"Jofra Archer<br>12\"],\"textposition\":\"outside\",\"x\":[22,20,18,18,18,17,17,15,13,12],\"y\":[\"GT\",\"CSK\",\"KKR\",\"MI\",\"RCB\",\"DC\",\"PBKS\",\"SRH\",\"LSG\",\"RR\"],\"type\":\"bar\",\"xaxis\":\"x2\",\"yaxis\":\"y2\"}],                        {\"template\":{\"data\":{\"bar\":[{\"error_x\":{\"color\":\"#2a3f5f\"},\"error_y\":{\"color\":\"#2a3f5f\"},\"marker\":{\"line\":{\"color\":\"#E5ECF6\",\"width\":0.5},\"pattern\":{\"fillmode\":\"overlay\",\"size\":10,\"solidity\":0.2}},\"type\":\"bar\"}],\"barpolar\":[{\"marker\":{\"line\":{\"color\":\"#E5ECF6\",\"width\":0.5},\"pattern\":{\"fillmode\":\"overlay\",\"size\":10,\"solidity\":0.2}},\"type\":\"barpolar\"}],\"carpet\":[{\"aaxis\":{\"endlinecolor\":\"#2a3f5f\",\"gridcolor\":\"white\",\"linecolor\":\"white\",\"minorgridcolor\":\"white\",\"startlinecolor\":\"#2a3f5f\"},\"baxis\":{\"endlinecolor\":\"#2a3f5f\",\"gridcolor\":\"white\",\"linecolor\":\"white\",\"minorgridcolor\":\"white\",\"startlinecolor\":\"#2a3f5f\"},\"type\":\"carpet\"}],\"choropleth\":[{\"colorbar\":{\"outlinewidth\":0,\"ticks\":\"\"},\"type\":\"choropleth\"}],\"contour\":[{\"colorbar\":{\"outlinewidth\":0,\"ticks\":\"\"},\"colorscale\":[[0.0,\"#0d0887\"],[0.1111111111111111,\"#46039f\"],[0.2222222222222222,\"#7201a8\"],[0.3333333333333333,\"#9c179e\"],[0.4444444444444444,\"#bd3786\"],[0.5555555555555556,\"#d8576b\"],[0.6666666666666666,\"#ed7953\"],[0.7777777777777778,\"#fb9f3a\"],[0.8888888888888888,\"#fdca26\"],[1.0,\"#f0f921\"]],\"type\":\"contour\"}],\"contourcarpet\":[{\"colorbar\":{\"outlinewidth\":0,\"ticks\":\"\"},\"type\":\"contourcarpet\"}],\"heatmap\":[{\"colorbar\":{\"outlinewidth\":0,\"ticks\":\"\"},\"colorscale\":[[0.0,\"#0d0887\"],[0.1111111111111111,\"#46039f\"],[0.2222222222222222,\"#7201a8\"],[0.3333333333333333,\"#9c179e\"],[0.4444444444444444,\"#bd3786\"],[0.5555555555555556,\"#d8576b\"],[0.6666666666666666,\"#ed7953\"],[0.7777777777777778,\"#fb9f3a\"],[0.8888888888888888,\"#fdca26\"],[1.0,\"#f0f921\"]],\"type\":\"heatmap\"}],\"heatmapgl\":[{\"colorbar\":{\"outlinewidth\":0,\"ticks\":\"\"},\"colorscale\":[[0.0,\"#0d0887\"],[0.1111111111111111,\"#46039f\"],[0.2222222222222222,\"#7201a8\"],[0.3333333333333333,\"#9c179e\"],[0.4444444444444444,\"#bd3786\"],[0.5555555555555556,\"#d8576b\"],[0.6666666666666666,\"#ed7953\"],[0.7777777777777778,\"#fb9f3a\"],[0.8888888888888888,\"#fdca26\"],[1.0,\"#f0f921\"]],\"type\":\"heatmapgl\"}],\"histogram\":[{\"marker\":{\"pattern\":{\"fillmode\":\"overlay\",\"size\":10,\"solidity\":0.2}},\"type\":\"histogram\"}],\"histogram2d\":[{\"colorbar\":{\"outlinewidth\":0,\"ticks\":\"\"},\"colorscale\":[[0.0,\"#0d0887\"],[0.1111111111111111,\"#46039f\"],[0.2222222222222222,\"#7201a8\"],[0.3333333333333333,\"#9c179e\"],[0.4444444444444444,\"#bd3786\"],[0.5555555555555556,\"#d8576b\"],[0.6666666666666666,\"#ed7953\"],[0.7777777777777778,\"#fb9f3a\"],[0.8888888888888888,\"#fdca26\"],[1.0,\"#f0f921\"]],\"type\":\"histogram2d\"}],\"histogram2dcontour\":[{\"colorbar\":{\"outlinewidth\":0,\"ticks\":\"\"},\"colorscale\":[[0.0,\"#0d0887\"],[0.1111111111111111,\"#46039f\"],[0.2222222222222222,\"#7201a8\"],[0.3333333333333333,\"#9c179e\"],[0.4444444444444444,\"#bd3786\"],[0.5555555555555556,\"#d8576b\"],[0.6666666666666666,\"#ed7953\"],[0.7777777777777778,\"#fb9f3a\"],[0.8888888888888888,\"#fdca26\"],[1.0,\"#f0f921\"]],\"type\":\"histogram2dcontour\"}],\"mesh3d\":[{\"colorbar\":{\"outlinewidth\":0,\"ticks\":\"\"},\"type\":\"mesh3d\"}],\"parcoords\":[{\"line\":{\"colorbar\":{\"outlinewidth\":0,\"ticks\":\"\"}},\"type\":\"parcoords\"}],\"pie\":[{\"automargin\":true,\"type\":\"pie\"}],\"scatter\":[{\"marker\":{\"colorbar\":{\"outlinewidth\":0,\"ticks\":\"\"}},\"type\":\"scatter\"}],\"scatter3d\":[{\"line\":{\"colorbar\":{\"outlinewidth\":0,\"ticks\":\"\"}},\"marker\":{\"colorbar\":{\"outlinewidth\":0,\"ticks\":\"\"}},\"type\":\"scatter3d\"}],\"scattercarpet\":[{\"marker\":{\"colorbar\":{\"outlinewidth\":0,\"ticks\":\"\"}},\"type\":\"scattercarpet\"}],\"scattergeo\":[{\"marker\":{\"colorbar\":{\"outlinewidth\":0,\"ticks\":\"\"}},\"type\":\"scattergeo\"}],\"scattergl\":[{\"marker\":{\"colorbar\":{\"outlinewidth\":0,\"ticks\":\"\"}},\"type\":\"scattergl\"}],\"scattermapbox\":[{\"marker\":{\"colorbar\":{\"outlinewidth\":0,\"ticks\":\"\"}},\"type\":\"scattermapbox\"}],\"scatterpolar\":[{\"marker\":{\"colorbar\":{\"outlinewidth\":0,\"ticks\":\"\"}},\"type\":\"scatterpolar\"}],\"scatterpolargl\":[{\"marker\":{\"colorbar\":{\"outlinewidth\":0,\"ticks\":\"\"}},\"type\":\"scatterpolargl\"}],\"scatterternary\":[{\"marker\":{\"colorbar\":{\"outlinewidth\":0,\"ticks\":\"\"}},\"type\":\"scatterternary\"}],\"surface\":[{\"colorbar\":{\"outlinewidth\":0,\"ticks\":\"\"},\"colorscale\":[[0.0,\"#0d0887\"],[0.1111111111111111,\"#46039f\"],[0.2222222222222222,\"#7201a8\"],[0.3333333333333333,\"#9c179e\"],[0.4444444444444444,\"#bd3786\"],[0.5555555555555556,\"#d8576b\"],[0.6666666666666666,\"#ed7953\"],[0.7777777777777778,\"#fb9f3a\"],[0.8888888888888888,\"#fdca26\"],[1.0,\"#f0f921\"]],\"type\":\"surface\"}],\"table\":[{\"cells\":{\"fill\":{\"color\":\"#EBF0F8\"},\"line\":{\"color\":\"white\"}},\"header\":{\"fill\":{\"color\":\"#C8D4E3\"},\"line\":{\"color\":\"white\"}},\"type\":\"table\"}]},\"layout\":{\"annotationdefaults\":{\"arrowcolor\":\"#2a3f5f\",\"arrowhead\":0,\"arrowwidth\":1},\"autotypenumbers\":\"strict\",\"coloraxis\":{\"colorbar\":{\"outlinewidth\":0,\"ticks\":\"\"}},\"colorscale\":{\"diverging\":[[0,\"#8e0152\"],[0.1,\"#c51b7d\"],[0.2,\"#de77ae\"],[0.3,\"#f1b6da\"],[0.4,\"#fde0ef\"],[0.5,\"#f7f7f7\"],[0.6,\"#e6f5d0\"],[0.7,\"#b8e186\"],[0.8,\"#7fbc41\"],[0.9,\"#4d9221\"],[1,\"#276419\"]],\"sequential\":[[0.0,\"#0d0887\"],[0.1111111111111111,\"#46039f\"],[0.2222222222222222,\"#7201a8\"],[0.3333333333333333,\"#9c179e\"],[0.4444444444444444,\"#bd3786\"],[0.5555555555555556,\"#d8576b\"],[0.6666666666666666,\"#ed7953\"],[0.7777777777777778,\"#fb9f3a\"],[0.8888888888888888,\"#fdca26\"],[1.0,\"#f0f921\"]],\"sequentialminus\":[[0.0,\"#0d0887\"],[0.1111111111111111,\"#46039f\"],[0.2222222222222222,\"#7201a8\"],[0.3333333333333333,\"#9c179e\"],[0.4444444444444444,\"#bd3786\"],[0.5555555555555556,\"#d8576b\"],[0.6666666666666666,\"#ed7953\"],[0.7777777777777778,\"#fb9f3a\"],[0.8888888888888888,\"#fdca26\"],[1.0,\"#f0f921\"]]},\"colorway\":[\"#636efa\",\"#EF553B\",\"#00cc96\",\"#ab63fa\",\"#FFA15A\",\"#19d3f3\",\"#FF6692\",\"#B6E880\",\"#FF97FF\",\"#FECB52\"],\"font\":{\"color\":\"#2a3f5f\"},\"geo\":{\"bgcolor\":\"white\",\"lakecolor\":\"white\",\"landcolor\":\"#E5ECF6\",\"showlakes\":true,\"showland\":true,\"subunitcolor\":\"white\"},\"hoverlabel\":{\"align\":\"left\"},\"hovermode\":\"closest\",\"mapbox\":{\"style\":\"light\"},\"paper_bgcolor\":\"white\",\"plot_bgcolor\":\"#E5ECF6\",\"polar\":{\"angularaxis\":{\"gridcolor\":\"white\",\"linecolor\":\"white\",\"ticks\":\"\"},\"bgcolor\":\"#E5ECF6\",\"radialaxis\":{\"gridcolor\":\"white\",\"linecolor\":\"white\",\"ticks\":\"\"}},\"scene\":{\"xaxis\":{\"backgroundcolor\":\"#E5ECF6\",\"gridcolor\":\"white\",\"gridwidth\":2,\"linecolor\":\"white\",\"showbackground\":true,\"ticks\":\"\",\"zerolinecolor\":\"white\"},\"yaxis\":{\"backgroundcolor\":\"#E5ECF6\",\"gridcolor\":\"white\",\"gridwidth\":2,\"linecolor\":\"white\",\"showbackground\":true,\"ticks\":\"\",\"zerolinecolor\":\"white\"},\"zaxis\":{\"backgroundcolor\":\"#E5ECF6\",\"gridcolor\":\"white\",\"gridwidth\":2,\"linecolor\":\"white\",\"showbackground\":true,\"ticks\":\"\",\"zerolinecolor\":\"white\"}},\"shapedefaults\":{\"line\":{\"color\":\"#2a3f5f\"}},\"ternary\":{\"aaxis\":{\"gridcolor\":\"white\",\"linecolor\":\"white\",\"ticks\":\"\"},\"baxis\":{\"gridcolor\":\"white\",\"linecolor\":\"white\",\"ticks\":\"\"},\"bgcolor\":\"#E5ECF6\",\"caxis\":{\"gridcolor\":\"white\",\"linecolor\":\"white\",\"ticks\":\"\"}},\"title\":{\"x\":0.05},\"xaxis\":{\"automargin\":true,\"gridcolor\":\"white\",\"linecolor\":\"white\",\"ticks\":\"\",\"title\":{\"standoff\":15},\"zerolinecolor\":\"white\",\"zerolinewidth\":2},\"yaxis\":{\"automargin\":true,\"gridcolor\":\"white\",\"linecolor\":\"white\",\"ticks\":\"\",\"title\":{\"standoff\":15},\"zerolinecolor\":\"white\",\"zerolinewidth\":2}}},\"xaxis\":{\"anchor\":\"y\",\"domain\":[0.0,0.45],\"title\":{\"text\":\"Total Runs\"}},\"yaxis\":{\"anchor\":\"x\",\"domain\":[0.0,1.0],\"title\":{\"text\":\"Team\"}},\"xaxis2\":{\"anchor\":\"y2\",\"domain\":[0.55,1.0],\"title\":{\"text\":\"Total Wickets\"}},\"yaxis2\":{\"anchor\":\"x2\",\"domain\":[0.0,1.0],\"title\":{\"text\":\"Team\"}},\"annotations\":[{\"font\":{\"size\":16},\"showarrow\":false,\"text\":\"Top Run Scorer by Team\",\"x\":0.225,\"xanchor\":\"center\",\"xref\":\"paper\",\"y\":1.0,\"yanchor\":\"bottom\",\"yref\":\"paper\"},{\"font\":{\"size\":16},\"showarrow\":false,\"text\":\"Top Wicket Taker by Team\",\"x\":0.775,\"xanchor\":\"center\",\"xref\":\"paper\",\"y\":1.0,\"yanchor\":\"bottom\",\"yref\":\"paper\"}],\"title\":{\"font\":{\"size\":16},\"text\":\"Top Performers by Team\"},\"height\":600,\"showlegend\":false},                        {\"responsive\": true}                    )                };                            </script>        </div>\n</body>\n</html>",
       "datasetInfos": [],
       "metadata": {},
       "removedWidgets": [],
       "textData": null,
       "type": "htmlSandbox"
      }
     },
     "output_type": "display_data"
    }
   ],
   "source": [
    "batsmen_df = batsman_df.toPandas()\n",
    "bowlers_df = bowler_df.toPandas()\n",
    "\n",
    "from plotly.subplots import make_subplots\n",
    "\n",
    "fig_combined = make_subplots(\n",
    "    rows=1, cols=2,\n",
    "    subplot_titles=('Top Run Scorer by Team', 'Top Wicket Taker by Team'),\n",
    "    horizontal_spacing=0.1\n",
    ")\n",
    "\n",
    "# Add run scorers\n",
    "fig_combined.add_trace(\n",
    "    go.Bar(\n",
    "        y=batsmen_df['team'],\n",
    "        x=batsmen_df['total_runs'],\n",
    "        orientation='h',\n",
    "        name='Runs',\n",
    "        text=[f\"{player}<br>{runs}\" for player, runs in zip(batsmen_df['top_batsman'], batsmen_df['total_runs'])],\n",
    "        textposition='outside',\n",
    "        marker_color='lightcoral',\n",
    "        hovertemplate='<b>%{y}</b><br>Player: %{text}<br>Runs: %{x}<extra></extra>'\n",
    "    ),\n",
    "    row=1, col=1\n",
    ")\n",
    "\n",
    "# Add wicket takers\n",
    "fig_combined.add_trace(\n",
    "    go.Bar(\n",
    "        y=bowlers_df['team'],\n",
    "        x=bowlers_df['total_wickets'],\n",
    "        orientation='h',\n",
    "        name='Wickets',\n",
    "        text=[f\"{player}<br>{wickets}\" for player, wickets in zip(bowlers_df['top_bowler'], bowlers_df['total_wickets'])],\n",
    "        textposition='outside',\n",
    "        marker_color='lightblue',\n",
    "        hovertemplate='<b>%{y}</b><br>Player: %{text}<br>Wickets: %{x}<extra></extra>'\n",
    "    ),\n",
    "    row=1, col=2\n",
    ")\n",
    "\n",
    "fig_combined.update_layout(\n",
    "    height=600,\n",
    "    title_text=\"Top Performers by Team\",\n",
    "    title_font_size=16,\n",
    "    showlegend=False\n",
    ")\n",
    "\n",
    "fig_combined.update_xaxes(title_text=\"Total Runs\", row=1, col=1)\n",
    "fig_combined.update_xaxes(title_text=\"Total Wickets\", row=1, col=2)\n",
    "fig_combined.update_yaxes(title_text=\"Team\", row=1, col=1)\n",
    "fig_combined.update_yaxes(title_text=\"Team\", row=1, col=2)\n",
    "\n",
    "fig_combined.show()\n"
   ]
  }
 ],
 "metadata": {
  "application/vnd.databricks.v1+notebook": {
   "computePreferences": null,
   "dashboards": [],
   "environmentMetadata": {
    "base_environment": "",
    "environment_version": "1"
   },
   "inputWidgetPreferences": null,
   "language": "python",
   "notebookMetadata": {
    "mostRecentlyExecutedCommandWithImplicitDF": {
     "commandId": -1,
     "dataframes": [
      "_sqldf"
     ]
    },
    "pythonIndentUnit": 4
   },
   "notebookName": "TATA IPL 2025 - Project",
   "widgets": {}
  }
 },
 "nbformat": 4,
 "nbformat_minor": 0
}